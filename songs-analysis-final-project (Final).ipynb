{
 "cells": [
  {
   "cell_type": "markdown",
   "metadata": {
    "id": "HxhhD4RMPEjG"
   },
   "source": [
    "# **Spotify songs analysis - last 10 years in numbers**\n",
    "\n",
    "### Spotify is one of the most popular music platforms all over the world and here we'll make a brief analysis, focusing on the most popular songs. Let's find out what the people like !\n",
    "\n",
    "This is how the analysis will be performed:\n",
    "\n",
    "1.   Data preparation & cleaning\n",
    "2.   Exploratory analysis and visualization\n",
    "3.   Asking and answering questions\n",
    "4.   Personal conclusions\n",
    "5.   References and future work\n",
    "\n",
    "\n",
    "\n"
   ]
  },
  {
   "cell_type": "code",
   "execution_count": 2,
   "metadata": {
    "executionInfo": {
     "elapsed": 810,
     "status": "ok",
     "timestamp": 1602423310872,
     "user": {
      "displayName": "Hada Garcia",
      "photoUrl": "https://lh3.googleusercontent.com/a-/AOh14Gi-BhTuTj1QIs2vQZScRxNHuO1tSPc58vtRT-c4VQ=s64",
      "userId": "17697916405456863555"
     },
     "user_tz": -120
    },
    "id": "rBIL7iOKB9fW"
   },
   "outputs": [],
   "source": [
    "import jovian\n",
    "import pandas as pd\n",
    "import numpy as np\n",
    "\n",
    "# Project name\n",
    "project='songs-analysis-final-project'"
   ]
  },
  {
   "cell_type": "markdown",
   "metadata": {
    "id": "3dvk21mTB9fZ"
   },
   "source": [
    "### **Initial raw data**\n",
    "> This is the initial dataset we download from Kaggle, which includes data starting the year of 1921. I'm not sure if this data, being so old, would be really accurate and relevant.\n",
    "\n",
    "\n",
    "\n"
   ]
  },
  {
   "cell_type": "code",
   "execution_count": null,
   "metadata": {
    "id": "ed0PIp-4B9fZ"
   },
   "outputs": [],
   "source": [
    "data_songs_raw_df = pd.read_csv('data-songs.csv')"
   ]
  },
  {
   "cell_type": "code",
   "execution_count": null,
   "metadata": {
    "colab": {
     "base_uri": "https://localhost:8080/",
     "height": 317
    },
    "executionInfo": {
     "elapsed": 578,
     "status": "ok",
     "timestamp": 1602103443158,
     "user": {
      "displayName": "Hada Garcia",
      "photoUrl": "https://lh3.googleusercontent.com/a-/AOh14Gi-BhTuTj1QIs2vQZScRxNHuO1tSPc58vtRT-c4VQ=s64",
      "userId": "17697916405456863555"
     },
     "user_tz": -120
    },
    "id": "KnqVSYTxB9ff",
    "outputId": "c426a884-0df8-4b18-a5f5-38bdbe99f792"
   },
   "outputs": [
    {
     "data": {
      "text/html": [
       "<div>\n",
       "<style scoped>\n",
       "    .dataframe tbody tr th:only-of-type {\n",
       "        vertical-align: middle;\n",
       "    }\n",
       "\n",
       "    .dataframe tbody tr th {\n",
       "        vertical-align: top;\n",
       "    }\n",
       "\n",
       "    .dataframe thead th {\n",
       "        text-align: right;\n",
       "    }\n",
       "</style>\n",
       "<table border=\"1\" class=\"dataframe\">\n",
       "  <thead>\n",
       "    <tr style=\"text-align: right;\">\n",
       "      <th></th>\n",
       "      <th>acousticness</th>\n",
       "      <th>danceability</th>\n",
       "      <th>duration_ms</th>\n",
       "      <th>energy</th>\n",
       "      <th>explicit</th>\n",
       "      <th>instrumentalness</th>\n",
       "      <th>key</th>\n",
       "      <th>liveness</th>\n",
       "      <th>loudness</th>\n",
       "      <th>mode</th>\n",
       "      <th>popularity</th>\n",
       "      <th>speechiness</th>\n",
       "      <th>tempo</th>\n",
       "      <th>valence</th>\n",
       "      <th>year</th>\n",
       "    </tr>\n",
       "  </thead>\n",
       "  <tbody>\n",
       "    <tr>\n",
       "      <th>count</th>\n",
       "      <td>169909.000000</td>\n",
       "      <td>169909.000000</td>\n",
       "      <td>1.699090e+05</td>\n",
       "      <td>169909.000000</td>\n",
       "      <td>169909.000000</td>\n",
       "      <td>169909.000000</td>\n",
       "      <td>169909.000000</td>\n",
       "      <td>169909.000000</td>\n",
       "      <td>169909.000000</td>\n",
       "      <td>169909.000000</td>\n",
       "      <td>169909.000000</td>\n",
       "      <td>169909.000000</td>\n",
       "      <td>169909.000000</td>\n",
       "      <td>169909.000000</td>\n",
       "      <td>169909.000000</td>\n",
       "    </tr>\n",
       "    <tr>\n",
       "      <th>mean</th>\n",
       "      <td>0.493214</td>\n",
       "      <td>0.538150</td>\n",
       "      <td>2.314062e+05</td>\n",
       "      <td>0.488593</td>\n",
       "      <td>0.084863</td>\n",
       "      <td>0.161937</td>\n",
       "      <td>5.200519</td>\n",
       "      <td>0.206690</td>\n",
       "      <td>-11.370289</td>\n",
       "      <td>0.708556</td>\n",
       "      <td>31.556610</td>\n",
       "      <td>0.094058</td>\n",
       "      <td>116.948017</td>\n",
       "      <td>0.532095</td>\n",
       "      <td>1977.223231</td>\n",
       "    </tr>\n",
       "    <tr>\n",
       "      <th>std</th>\n",
       "      <td>0.376627</td>\n",
       "      <td>0.175346</td>\n",
       "      <td>1.213219e+05</td>\n",
       "      <td>0.267390</td>\n",
       "      <td>0.278679</td>\n",
       "      <td>0.309329</td>\n",
       "      <td>3.515257</td>\n",
       "      <td>0.176796</td>\n",
       "      <td>5.666765</td>\n",
       "      <td>0.454429</td>\n",
       "      <td>21.582614</td>\n",
       "      <td>0.149937</td>\n",
       "      <td>30.726937</td>\n",
       "      <td>0.262408</td>\n",
       "      <td>25.593168</td>\n",
       "    </tr>\n",
       "    <tr>\n",
       "      <th>min</th>\n",
       "      <td>0.000000</td>\n",
       "      <td>0.000000</td>\n",
       "      <td>5.108000e+03</td>\n",
       "      <td>0.000000</td>\n",
       "      <td>0.000000</td>\n",
       "      <td>0.000000</td>\n",
       "      <td>0.000000</td>\n",
       "      <td>0.000000</td>\n",
       "      <td>-60.000000</td>\n",
       "      <td>0.000000</td>\n",
       "      <td>0.000000</td>\n",
       "      <td>0.000000</td>\n",
       "      <td>0.000000</td>\n",
       "      <td>0.000000</td>\n",
       "      <td>1921.000000</td>\n",
       "    </tr>\n",
       "    <tr>\n",
       "      <th>25%</th>\n",
       "      <td>0.094500</td>\n",
       "      <td>0.417000</td>\n",
       "      <td>1.710400e+05</td>\n",
       "      <td>0.263000</td>\n",
       "      <td>0.000000</td>\n",
       "      <td>0.000000</td>\n",
       "      <td>2.000000</td>\n",
       "      <td>0.098400</td>\n",
       "      <td>-14.470000</td>\n",
       "      <td>0.000000</td>\n",
       "      <td>12.000000</td>\n",
       "      <td>0.034900</td>\n",
       "      <td>93.516000</td>\n",
       "      <td>0.322000</td>\n",
       "      <td>1957.000000</td>\n",
       "    </tr>\n",
       "    <tr>\n",
       "      <th>50%</th>\n",
       "      <td>0.492000</td>\n",
       "      <td>0.548000</td>\n",
       "      <td>2.086000e+05</td>\n",
       "      <td>0.481000</td>\n",
       "      <td>0.000000</td>\n",
       "      <td>0.000204</td>\n",
       "      <td>5.000000</td>\n",
       "      <td>0.135000</td>\n",
       "      <td>-10.474000</td>\n",
       "      <td>1.000000</td>\n",
       "      <td>33.000000</td>\n",
       "      <td>0.045000</td>\n",
       "      <td>114.778000</td>\n",
       "      <td>0.544000</td>\n",
       "      <td>1978.000000</td>\n",
       "    </tr>\n",
       "    <tr>\n",
       "      <th>75%</th>\n",
       "      <td>0.888000</td>\n",
       "      <td>0.667000</td>\n",
       "      <td>2.629600e+05</td>\n",
       "      <td>0.710000</td>\n",
       "      <td>0.000000</td>\n",
       "      <td>0.086800</td>\n",
       "      <td>8.000000</td>\n",
       "      <td>0.263000</td>\n",
       "      <td>-7.118000</td>\n",
       "      <td>1.000000</td>\n",
       "      <td>48.000000</td>\n",
       "      <td>0.075400</td>\n",
       "      <td>135.712000</td>\n",
       "      <td>0.749000</td>\n",
       "      <td>1999.000000</td>\n",
       "    </tr>\n",
       "    <tr>\n",
       "      <th>max</th>\n",
       "      <td>0.996000</td>\n",
       "      <td>0.988000</td>\n",
       "      <td>5.403500e+06</td>\n",
       "      <td>1.000000</td>\n",
       "      <td>1.000000</td>\n",
       "      <td>1.000000</td>\n",
       "      <td>11.000000</td>\n",
       "      <td>1.000000</td>\n",
       "      <td>3.855000</td>\n",
       "      <td>1.000000</td>\n",
       "      <td>100.000000</td>\n",
       "      <td>0.969000</td>\n",
       "      <td>244.091000</td>\n",
       "      <td>1.000000</td>\n",
       "      <td>2020.000000</td>\n",
       "    </tr>\n",
       "  </tbody>\n",
       "</table>\n",
       "</div>"
      ],
      "text/plain": [
       "        acousticness   danceability  ...        valence           year\n",
       "count  169909.000000  169909.000000  ...  169909.000000  169909.000000\n",
       "mean        0.493214       0.538150  ...       0.532095    1977.223231\n",
       "std         0.376627       0.175346  ...       0.262408      25.593168\n",
       "min         0.000000       0.000000  ...       0.000000    1921.000000\n",
       "25%         0.094500       0.417000  ...       0.322000    1957.000000\n",
       "50%         0.492000       0.548000  ...       0.544000    1978.000000\n",
       "75%         0.888000       0.667000  ...       0.749000    1999.000000\n",
       "max         0.996000       0.988000  ...       1.000000    2020.000000\n",
       "\n",
       "[8 rows x 15 columns]"
      ]
     },
     "execution_count": 8,
     "metadata": {
      "tags": []
     },
     "output_type": "execute_result"
    }
   ],
   "source": [
    "data_songs_raw_df.describe()"
   ]
  },
  {
   "cell_type": "code",
   "execution_count": null,
   "metadata": {
    "colab": {
     "base_uri": "https://localhost:8080/"
    },
    "executionInfo": {
     "elapsed": 586,
     "status": "ok",
     "timestamp": 1602109351756,
     "user": {
      "displayName": "Hada Garcia",
      "photoUrl": "https://lh3.googleusercontent.com/a-/AOh14Gi-BhTuTj1QIs2vQZScRxNHuO1tSPc58vtRT-c4VQ=s64",
      "userId": "17697916405456863555"
     },
     "user_tz": -120
    },
    "id": "_pXPXXpSKAvl",
    "outputId": "630e7503-e3db-4c3e-dec2-5b43b98f7a14"
   },
   "outputs": [
    {
     "name": "stdout",
     "output_type": "stream",
     "text": [
      "<class 'pandas.core.frame.DataFrame'>\n",
      "RangeIndex: 169909 entries, 0 to 169908\n",
      "Data columns (total 19 columns):\n",
      " #   Column            Non-Null Count   Dtype  \n",
      "---  ------            --------------   -----  \n",
      " 0   acousticness      169909 non-null  float64\n",
      " 1   artists           169909 non-null  object \n",
      " 2   danceability      169909 non-null  float64\n",
      " 3   duration_ms       169909 non-null  int64  \n",
      " 4   energy            169909 non-null  float64\n",
      " 5   explicit          169909 non-null  int64  \n",
      " 6   id                169909 non-null  object \n",
      " 7   instrumentalness  169909 non-null  float64\n",
      " 8   key               169909 non-null  int64  \n",
      " 9   liveness          169909 non-null  float64\n",
      " 10  loudness          169909 non-null  float64\n",
      " 11  mode              169909 non-null  int64  \n",
      " 12  name              169909 non-null  object \n",
      " 13  popularity        169909 non-null  int64  \n",
      " 14  release_date      169909 non-null  object \n",
      " 15  speechiness       169909 non-null  float64\n",
      " 16  tempo             169909 non-null  float64\n",
      " 17  valence           169909 non-null  float64\n",
      " 18  year              169909 non-null  int64  \n",
      "dtypes: float64(9), int64(6), object(4)\n",
      "memory usage: 24.6+ MB\n"
     ]
    }
   ],
   "source": [
    "# General raw dataframe info\n",
    "data_songs_raw_df.info()"
   ]
  },
  {
   "cell_type": "markdown",
   "metadata": {
    "id": "WCXuu7fzB9fk"
   },
   "source": [
    "## **1. Data preparation & cleaning**\n",
    "> This raw data contains values and columns, that probably will not be really useful for our analysis. That's why we need to clean and select only the most relevant information.\n",
    "\n"
   ]
  },
  {
   "cell_type": "markdown",
   "metadata": {
    "id": "vwdtZtruB9fl"
   },
   "source": [
    "#### 1.1 Only the last 10 years will be analyzed\n",
    "\n",
    "-- This probably would make the data more accurate, since the technology to rate the songs has been improved the last 10 years"
   ]
  },
  {
   "cell_type": "code",
   "execution_count": null,
   "metadata": {
    "id": "ZolIOTdpB9fm"
   },
   "outputs": [],
   "source": [
    "data_songs_df = data_songs_raw_df.drop(data_songs_raw_df[data_songs_raw_df.year < 2010].index)"
   ]
  },
  {
   "cell_type": "code",
   "execution_count": null,
   "metadata": {
    "colab": {
     "base_uri": "https://localhost:8080/"
    },
    "executionInfo": {
     "elapsed": 546,
     "status": "ok",
     "timestamp": 1602108831548,
     "user": {
      "displayName": "Hada Garcia",
      "photoUrl": "https://lh3.googleusercontent.com/a-/AOh14Gi-BhTuTj1QIs2vQZScRxNHuO1tSPc58vtRT-c4VQ=s64",
      "userId": "17697916405456863555"
     },
     "user_tz": -120
    },
    "id": "F0_-XRDnB9fo",
    "outputId": "1d4d7a4d-d30f-4fd9-a6a5-9fe589918a2b"
   },
   "outputs": [
    {
     "data": {
      "text/plain": [
       "array([2010, 2011, 2012, 2013, 2014, 2015, 2016, 2017, 2018, 2019, 2020])"
      ]
     },
     "execution_count": 74,
     "metadata": {
      "tags": []
     },
     "output_type": "execute_result"
    }
   ],
   "source": [
    "# Dataframe with the relevant data for this analysis\n",
    "data_songs_df.year.unique()"
   ]
  },
  {
   "cell_type": "markdown",
   "metadata": {
    "id": "pk0rBybv1PJC"
   },
   "source": [
    "#### 1.2 Not all columns will be considered for this analysis.\n",
    "-- We'll select only some columns using a list of column names"
   ]
  },
  {
   "cell_type": "code",
   "execution_count": null,
   "metadata": {
    "colab": {
     "base_uri": "https://localhost:8080/"
    },
    "executionInfo": {
     "elapsed": 663,
     "status": "ok",
     "timestamp": 1602108836961,
     "user": {
      "displayName": "Hada Garcia",
      "photoUrl": "https://lh3.googleusercontent.com/a-/AOh14Gi-BhTuTj1QIs2vQZScRxNHuO1tSPc58vtRT-c4VQ=s64",
      "userId": "17697916405456863555"
     },
     "user_tz": -120
    },
    "id": "tDzfS8el1vPg",
    "outputId": "7568e039-7159-4be3-c821-3cc01b489c91"
   },
   "outputs": [
    {
     "data": {
      "text/plain": [
       "Index(['id', 'name', 'popularity', 'release_date', 'year', 'duration_ms',\n",
       "       'artists', 'danceability', 'energy', 'explicit', 'speechiness'],\n",
       "      dtype='object')"
      ]
     },
     "execution_count": 75,
     "metadata": {
      "tags": []
     },
     "output_type": "execute_result"
    }
   ],
   "source": [
    "columns_selection = ['id', 'name', 'popularity', 'release_date', 'year', 'duration_ms', 'artists', 'danceability', 'energy', 'explicit', 'speechiness']\n",
    "data_songs_df = data_songs_df[columns_selection]\n",
    "data_songs_df.columns"
   ]
  },
  {
   "cell_type": "markdown",
   "metadata": {
    "id": "Rpd0LS4B3jx2"
   },
   "source": [
    "#### 1.3 Editing some columns. E.g. 'name', 'artists', 'duration_ms' and 'release_date'"
   ]
  },
  {
   "cell_type": "markdown",
   "metadata": {
    "id": "tQb1pHOsB9fv"
   },
   "source": [
    "##### Column 'name'\n",
    "\n",
    "> It should be better to set to lowercase the name of the songs, for easier string manipulation\n",
    "\n"
   ]
  },
  {
   "cell_type": "code",
   "execution_count": null,
   "metadata": {
    "id": "mZ6y8--_B9fw"
   },
   "outputs": [],
   "source": [
    "data_songs_df['name'] = data_songs_df.name.str.lower()"
   ]
  },
  {
   "cell_type": "markdown",
   "metadata": {
    "id": "L3lZVuWeHOWx"
   },
   "source": [
    "##### Column 'artists'\n",
    "\n",
    "\n",
    "> This column comes a list, would be easier to manipulate as a comma separated string. We'll use a lambda function to format it.\n",
    "\n"
   ]
  },
  {
   "cell_type": "code",
   "execution_count": null,
   "metadata": {
    "id": "LZmqQKJuHimd"
   },
   "outputs": [],
   "source": [
    "data_songs_df['artists'] = data_songs_df.artists.apply(lambda s: str(s).replace(\"'\", '').strip('[]'))"
   ]
  },
  {
   "cell_type": "markdown",
   "metadata": {
    "id": "BgZI3_Gk6kiJ"
   },
   "source": [
    "##### Column 'duration_ms'\n",
    "\n",
    "> duration in milliseconds would be better to display it in minutes, such  transformation can be achieved applying a lambda function to the column.\n",
    "\n"
   ]
  },
  {
   "cell_type": "code",
   "execution_count": null,
   "metadata": {
    "id": "cSQVzJpR7hjk"
   },
   "outputs": [],
   "source": [
    "import math\n",
    "data_songs_df['duration_mins'] = data_songs_df.duration_ms.apply(lambda ms: round((ms / 60000), 2))\n",
    "\n",
    "# The column 'duration_ms' won't be needed anymore, by using 'drop' method, we get rid of the column.\n",
    "# by adding the parameter 'inplace=True', won't return a copy so it will be modified on the Dataframe itself.\n",
    "data_songs_df.drop(columns=['duration_ms'], inplace=True)"
   ]
  },
  {
   "cell_type": "markdown",
   "metadata": {
    "id": "5k8FcrYR9AGg"
   },
   "source": [
    "##### Column 'release_month'\n",
    "\n",
    "\n",
    "> Another column probably helpful would be the month when the song was released, using the Pandas method *DatetimeIndex*\n",
    "\n"
   ]
  },
  {
   "cell_type": "code",
   "execution_count": null,
   "metadata": {
    "id": "Xc4g-mBO9cqC"
   },
   "outputs": [],
   "source": [
    "data_songs_df['release_month'] = pd.DatetimeIndex(data_songs_df['release_date']).month"
   ]
  },
  {
   "cell_type": "markdown",
   "metadata": {
    "id": "R5uxm7ySIZ_t"
   },
   "source": [
    "##### This is how the dataframe looks now.\n",
    "\n",
    "\n",
    "> Sample of 5 songs to verify the new columns\n",
    "\n"
   ]
  },
  {
   "cell_type": "code",
   "execution_count": null,
   "metadata": {
    "colab": {
     "base_uri": "https://localhost:8080/",
     "height": 238
    },
    "executionInfo": {
     "elapsed": 592,
     "status": "ok",
     "timestamp": 1602109097678,
     "user": {
      "displayName": "Hada Garcia",
      "photoUrl": "https://lh3.googleusercontent.com/a-/AOh14Gi-BhTuTj1QIs2vQZScRxNHuO1tSPc58vtRT-c4VQ=s64",
      "userId": "17697916405456863555"
     },
     "user_tz": -120
    },
    "id": "dA8rKLQuIqVn",
    "outputId": "e93f7896-d604-4180-a49a-f98845304800"
   },
   "outputs": [
    {
     "data": {
      "text/html": [
       "<div>\n",
       "<style scoped>\n",
       "    .dataframe tbody tr th:only-of-type {\n",
       "        vertical-align: middle;\n",
       "    }\n",
       "\n",
       "    .dataframe tbody tr th {\n",
       "        vertical-align: top;\n",
       "    }\n",
       "\n",
       "    .dataframe thead th {\n",
       "        text-align: right;\n",
       "    }\n",
       "</style>\n",
       "<table border=\"1\" class=\"dataframe\">\n",
       "  <thead>\n",
       "    <tr style=\"text-align: right;\">\n",
       "      <th></th>\n",
       "      <th>id</th>\n",
       "      <th>name</th>\n",
       "      <th>popularity</th>\n",
       "      <th>release_date</th>\n",
       "      <th>year</th>\n",
       "      <th>artists</th>\n",
       "      <th>danceability</th>\n",
       "      <th>energy</th>\n",
       "      <th>explicit</th>\n",
       "      <th>speechiness</th>\n",
       "      <th>duration_mins</th>\n",
       "      <th>release_month</th>\n",
       "    </tr>\n",
       "  </thead>\n",
       "  <tbody>\n",
       "    <tr>\n",
       "      <th>16137</th>\n",
       "      <td>3CyCjgTHFzqucmECajq8QA</td>\n",
       "      <td>dun dun</td>\n",
       "      <td>75</td>\n",
       "      <td>2020-02-03</td>\n",
       "      <td>2020</td>\n",
       "      <td>EVERGLOW</td>\n",
       "      <td>0.692</td>\n",
       "      <td>0.881</td>\n",
       "      <td>0</td>\n",
       "      <td>0.0461</td>\n",
       "      <td>3.20</td>\n",
       "      <td>2</td>\n",
       "    </tr>\n",
       "    <tr>\n",
       "      <th>152290</th>\n",
       "      <td>5JnrCMAVY9tIuglIZba758</td>\n",
       "      <td>me pegó la gana</td>\n",
       "      <td>57</td>\n",
       "      <td>2013-09-30</td>\n",
       "      <td>2013</td>\n",
       "      <td>Traviezoz de la Zierra</td>\n",
       "      <td>0.578</td>\n",
       "      <td>0.514</td>\n",
       "      <td>0</td>\n",
       "      <td>0.0401</td>\n",
       "      <td>2.81</td>\n",
       "      <td>9</td>\n",
       "    </tr>\n",
       "    <tr>\n",
       "      <th>125886</th>\n",
       "      <td>54yT3t8hSaJUvdHer3ZaB1</td>\n",
       "      <td>alexis</td>\n",
       "      <td>67</td>\n",
       "      <td>2017-10-08</td>\n",
       "      <td>2017</td>\n",
       "      <td>Joey Trap</td>\n",
       "      <td>0.839</td>\n",
       "      <td>0.539</td>\n",
       "      <td>1</td>\n",
       "      <td>0.0926</td>\n",
       "      <td>1.38</td>\n",
       "      <td>10</td>\n",
       "    </tr>\n",
       "    <tr>\n",
       "      <th>161200</th>\n",
       "      <td>4fhKaRCxbWXA3BwAr3Zxjx</td>\n",
       "      <td>david ashley parker from powder springs</td>\n",
       "      <td>63</td>\n",
       "      <td>2018-03-16</td>\n",
       "      <td>2018</td>\n",
       "      <td>Travis Denning</td>\n",
       "      <td>0.555</td>\n",
       "      <td>0.895</td>\n",
       "      <td>0</td>\n",
       "      <td>0.0472</td>\n",
       "      <td>3.50</td>\n",
       "      <td>3</td>\n",
       "    </tr>\n",
       "    <tr>\n",
       "      <th>160597</th>\n",
       "      <td>2JtL0a3NHcGkFQ7kfDLKUT</td>\n",
       "      <td>swing lo magellan</td>\n",
       "      <td>51</td>\n",
       "      <td>2012-07-10</td>\n",
       "      <td>2012</td>\n",
       "      <td>Dirty Projectors</td>\n",
       "      <td>0.738</td>\n",
       "      <td>0.366</td>\n",
       "      <td>0</td>\n",
       "      <td>0.0324</td>\n",
       "      <td>2.63</td>\n",
       "      <td>7</td>\n",
       "    </tr>\n",
       "  </tbody>\n",
       "</table>\n",
       "</div>"
      ],
      "text/plain": [
       "                            id  ... release_month\n",
       "16137   3CyCjgTHFzqucmECajq8QA  ...             2\n",
       "152290  5JnrCMAVY9tIuglIZba758  ...             9\n",
       "125886  54yT3t8hSaJUvdHer3ZaB1  ...            10\n",
       "161200  4fhKaRCxbWXA3BwAr3Zxjx  ...             3\n",
       "160597  2JtL0a3NHcGkFQ7kfDLKUT  ...             7\n",
       "\n",
       "[5 rows x 12 columns]"
      ]
     },
     "execution_count": 88,
     "metadata": {
      "tags": []
     },
     "output_type": "execute_result"
    }
   ],
   "source": [
    "data_songs_df.sample(5)"
   ]
  },
  {
   "cell_type": "code",
   "execution_count": null,
   "metadata": {
    "colab": {
     "base_uri": "https://localhost:8080/",
     "height": 297
    },
    "executionInfo": {
     "elapsed": 553,
     "status": "ok",
     "timestamp": 1602109438976,
     "user": {
      "displayName": "Hada Garcia",
      "photoUrl": "https://lh3.googleusercontent.com/a-/AOh14Gi-BhTuTj1QIs2vQZScRxNHuO1tSPc58vtRT-c4VQ=s64",
      "userId": "17697916405456863555"
     },
     "user_tz": -120
    },
    "id": "CUWqhbiVKSo4",
    "outputId": "dd3f616a-354c-465d-b0ed-e9782764b271"
   },
   "outputs": [
    {
     "data": {
      "text/html": [
       "<div>\n",
       "<style scoped>\n",
       "    .dataframe tbody tr th:only-of-type {\n",
       "        vertical-align: middle;\n",
       "    }\n",
       "\n",
       "    .dataframe tbody tr th {\n",
       "        vertical-align: top;\n",
       "    }\n",
       "\n",
       "    .dataframe thead th {\n",
       "        text-align: right;\n",
       "    }\n",
       "</style>\n",
       "<table border=\"1\" class=\"dataframe\">\n",
       "  <thead>\n",
       "    <tr style=\"text-align: right;\">\n",
       "      <th></th>\n",
       "      <th>popularity</th>\n",
       "      <th>year</th>\n",
       "      <th>danceability</th>\n",
       "      <th>energy</th>\n",
       "      <th>explicit</th>\n",
       "      <th>speechiness</th>\n",
       "      <th>duration_mins</th>\n",
       "      <th>release_month</th>\n",
       "    </tr>\n",
       "  </thead>\n",
       "  <tbody>\n",
       "    <tr>\n",
       "      <th>count</th>\n",
       "      <td>21656.000000</td>\n",
       "      <td>21656.000000</td>\n",
       "      <td>21656.000000</td>\n",
       "      <td>21656.000000</td>\n",
       "      <td>21656.000000</td>\n",
       "      <td>21656.000000</td>\n",
       "      <td>21656.000000</td>\n",
       "      <td>21656.000000</td>\n",
       "    </tr>\n",
       "    <tr>\n",
       "      <th>mean</th>\n",
       "      <td>59.850526</td>\n",
       "      <td>2014.942233</td>\n",
       "      <td>0.605048</td>\n",
       "      <td>0.631091</td>\n",
       "      <td>0.302734</td>\n",
       "      <td>0.104421</td>\n",
       "      <td>3.706779</td>\n",
       "      <td>6.034124</td>\n",
       "    </tr>\n",
       "    <tr>\n",
       "      <th>std</th>\n",
       "      <td>10.537460</td>\n",
       "      <td>3.142110</td>\n",
       "      <td>0.170475</td>\n",
       "      <td>0.217466</td>\n",
       "      <td>0.459452</td>\n",
       "      <td>0.110202</td>\n",
       "      <td>1.424352</td>\n",
       "      <td>3.589228</td>\n",
       "    </tr>\n",
       "    <tr>\n",
       "      <th>min</th>\n",
       "      <td>0.000000</td>\n",
       "      <td>2010.000000</td>\n",
       "      <td>0.000000</td>\n",
       "      <td>0.000020</td>\n",
       "      <td>0.000000</td>\n",
       "      <td>0.000000</td>\n",
       "      <td>0.510000</td>\n",
       "      <td>1.000000</td>\n",
       "    </tr>\n",
       "    <tr>\n",
       "      <th>25%</th>\n",
       "      <td>53.000000</td>\n",
       "      <td>2012.000000</td>\n",
       "      <td>0.502000</td>\n",
       "      <td>0.500000</td>\n",
       "      <td>0.000000</td>\n",
       "      <td>0.037200</td>\n",
       "      <td>3.120000</td>\n",
       "      <td>3.000000</td>\n",
       "    </tr>\n",
       "    <tr>\n",
       "      <th>50%</th>\n",
       "      <td>60.000000</td>\n",
       "      <td>2015.000000</td>\n",
       "      <td>0.618000</td>\n",
       "      <td>0.658000</td>\n",
       "      <td>0.000000</td>\n",
       "      <td>0.054900</td>\n",
       "      <td>3.580000</td>\n",
       "      <td>6.000000</td>\n",
       "    </tr>\n",
       "    <tr>\n",
       "      <th>75%</th>\n",
       "      <td>66.000000</td>\n",
       "      <td>2018.000000</td>\n",
       "      <td>0.730000</td>\n",
       "      <td>0.798000</td>\n",
       "      <td>1.000000</td>\n",
       "      <td>0.123000</td>\n",
       "      <td>4.110000</td>\n",
       "      <td>9.000000</td>\n",
       "    </tr>\n",
       "    <tr>\n",
       "      <th>max</th>\n",
       "      <td>100.000000</td>\n",
       "      <td>2020.000000</td>\n",
       "      <td>0.986000</td>\n",
       "      <td>1.000000</td>\n",
       "      <td>1.000000</td>\n",
       "      <td>0.950000</td>\n",
       "      <td>90.060000</td>\n",
       "      <td>12.000000</td>\n",
       "    </tr>\n",
       "  </tbody>\n",
       "</table>\n",
       "</div>"
      ],
      "text/plain": [
       "         popularity          year  ...  duration_mins  release_month\n",
       "count  21656.000000  21656.000000  ...   21656.000000   21656.000000\n",
       "mean      59.850526   2014.942233  ...       3.706779       6.034124\n",
       "std       10.537460      3.142110  ...       1.424352       3.589228\n",
       "min        0.000000   2010.000000  ...       0.510000       1.000000\n",
       "25%       53.000000   2012.000000  ...       3.120000       3.000000\n",
       "50%       60.000000   2015.000000  ...       3.580000       6.000000\n",
       "75%       66.000000   2018.000000  ...       4.110000       9.000000\n",
       "max      100.000000   2020.000000  ...      90.060000      12.000000\n",
       "\n",
       "[8 rows x 8 columns]"
      ]
     },
     "execution_count": 93,
     "metadata": {
      "tags": []
     },
     "output_type": "execute_result"
    }
   ],
   "source": [
    "# Now we can see clearer and useful info to be used for our analysis. Here some statistics using the 'describe' method.\n",
    "data_songs_df.describe()"
   ]
  },
  {
   "cell_type": "code",
   "execution_count": null,
   "metadata": {
    "colab": {
     "base_uri": "https://localhost:8080/"
    },
    "executionInfo": {
     "elapsed": 574,
     "status": "ok",
     "timestamp": 1602109460997,
     "user": {
      "displayName": "Hada Garcia",
      "photoUrl": "https://lh3.googleusercontent.com/a-/AOh14Gi-BhTuTj1QIs2vQZScRxNHuO1tSPc58vtRT-c4VQ=s64",
      "userId": "17697916405456863555"
     },
     "user_tz": -120
    },
    "id": "--CfZHFpJoQB",
    "outputId": "ec1a29bd-f381-49de-d746-bbce21584a6f"
   },
   "outputs": [
    {
     "name": "stdout",
     "output_type": "stream",
     "text": [
      "<class 'pandas.core.frame.DataFrame'>\n",
      "Int64Index: 21656 entries, 7054 to 169908\n",
      "Data columns (total 12 columns):\n",
      " #   Column         Non-Null Count  Dtype  \n",
      "---  ------         --------------  -----  \n",
      " 0   id             21656 non-null  object \n",
      " 1   name           21656 non-null  object \n",
      " 2   popularity     21656 non-null  int64  \n",
      " 3   release_date   21656 non-null  object \n",
      " 4   year           21656 non-null  int64  \n",
      " 5   artists        21656 non-null  object \n",
      " 6   danceability   21656 non-null  float64\n",
      " 7   energy         21656 non-null  float64\n",
      " 8   explicit       21656 non-null  int64  \n",
      " 9   speechiness    21656 non-null  float64\n",
      " 10  duration_mins  21656 non-null  float64\n",
      " 11  release_month  21656 non-null  int64  \n",
      "dtypes: float64(4), int64(4), object(4)\n",
      "memory usage: 2.1+ MB\n"
     ]
    }
   ],
   "source": [
    "data_songs_df.info()"
   ]
  },
  {
   "cell_type": "code",
   "execution_count": null,
   "metadata": {
    "id": "9l4RROxnJaTE"
   },
   "outputs": [],
   "source": [
    "# Now write the new dataframe to a CSV file to use it for the analysis.\n",
    "data_songs_df.to_csv('data_songs_cleaned.csv')\n"
   ]
  },
  {
   "cell_type": "code",
   "execution_count": null,
   "metadata": {
    "id": "UujKCrU5K8yo"
   },
   "outputs": [],
   "source": [
    "# Save our progress\n",
    "jovian.commit(project=project, files=['data_songs_cleaned.csv'])"
   ]
  },
  {
   "cell_type": "markdown",
   "metadata": {
    "id": "VKHF8L0bB9gQ"
   },
   "source": [
    "## **2. Exploratory analysis and visualization**\n",
    "\n",
    "> Let's analyze some interesting characteristics found in this dataset like popularity, danceability and explicit content.\n",
    "\n"
   ]
  },
  {
   "cell_type": "code",
   "execution_count": null,
   "metadata": {
    "id": "jaXQATGxB9gQ"
   },
   "outputs": [],
   "source": [
    "# In case seaborn and matplotlib need to be installed\n",
    "!pip install seaborn\n",
    "!pip install matplotlib"
   ]
  },
  {
   "cell_type": "code",
   "execution_count": 6,
   "metadata": {
    "executionInfo": {
     "elapsed": 864,
     "status": "ok",
     "timestamp": 1602423644820,
     "user": {
      "displayName": "Hada Garcia",
      "photoUrl": "https://lh3.googleusercontent.com/a-/AOh14Gi-BhTuTj1QIs2vQZScRxNHuO1tSPc58vtRT-c4VQ=s64",
      "userId": "17697916405456863555"
     },
     "user_tz": -120
    },
    "id": "E7x0R6anB9gS"
   },
   "outputs": [],
   "source": [
    "import seaborn as sns\n",
    "import matplotlib\n",
    "import matplotlib.pyplot as plt\n",
    "%matplotlib inline"
   ]
  },
  {
   "cell_type": "code",
   "execution_count": 7,
   "metadata": {
    "executionInfo": {
     "elapsed": 996,
     "status": "ok",
     "timestamp": 1602423648390,
     "user": {
      "displayName": "Hada Garcia",
      "photoUrl": "https://lh3.googleusercontent.com/a-/AOh14Gi-BhTuTj1QIs2vQZScRxNHuO1tSPc58vtRT-c4VQ=s64",
      "userId": "17697916405456863555"
     },
     "user_tz": -120
    },
    "id": "63miJjX1B9gU"
   },
   "outputs": [],
   "source": [
    "sns.set_style('darkgrid')\n",
    "matplotlib.rcParams['font.size'] = 12\n",
    "matplotlib.rcParams['figure.figsize'] = (9, 5)\n",
    "matplotlib.rcParams['figure.facecolor'] = '#00000000'"
   ]
  },
  {
   "cell_type": "code",
   "execution_count": null,
   "metadata": {
    "id": "EhW-bhVymlt8"
   },
   "outputs": [],
   "source": [
    "data_songs_df = pd.read_csv('data_songs_cleaned.csv', index_col=0)"
   ]
  },
  {
   "cell_type": "markdown",
   "metadata": {
    "id": "hUOlucGeB9gW"
   },
   "source": [
    "#### 2.1 Popularity\n",
    "\n",
    "> Let's look at the 10 most popular songs this year (2020)\n",
    "\n"
   ]
  },
  {
   "cell_type": "code",
   "execution_count": null,
   "metadata": {
    "colab": {
     "base_uri": "https://localhost:8080/",
     "height": 359
    },
    "executionInfo": {
     "elapsed": 608,
     "status": "ok",
     "timestamp": 1602184056095,
     "user": {
      "displayName": "Hada Garcia",
      "photoUrl": "https://lh3.googleusercontent.com/a-/AOh14Gi-BhTuTj1QIs2vQZScRxNHuO1tSPc58vtRT-c4VQ=s64",
      "userId": "17697916405456863555"
     },
     "user_tz": -120
    },
    "id": "h1KdwzAiB9gW",
    "outputId": "71d1349f-d36b-4564-c8da-eb266968c9d8"
   },
   "outputs": [
    {
     "data": {
      "text/html": [
       "<div>\n",
       "<style scoped>\n",
       "    .dataframe tbody tr th:only-of-type {\n",
       "        vertical-align: middle;\n",
       "    }\n",
       "\n",
       "    .dataframe tbody tr th {\n",
       "        vertical-align: top;\n",
       "    }\n",
       "\n",
       "    .dataframe thead th {\n",
       "        text-align: right;\n",
       "    }\n",
       "</style>\n",
       "<table border=\"1\" class=\"dataframe\">\n",
       "  <thead>\n",
       "    <tr style=\"text-align: right;\">\n",
       "      <th></th>\n",
       "      <th>name</th>\n",
       "      <th>artists</th>\n",
       "      <th>year</th>\n",
       "      <th>popularity</th>\n",
       "    </tr>\n",
       "  </thead>\n",
       "  <tbody>\n",
       "    <tr>\n",
       "      <th>11858</th>\n",
       "      <td>blinding lights</td>\n",
       "      <td>The Weeknd</td>\n",
       "      <td>2020</td>\n",
       "      <td>100</td>\n",
       "    </tr>\n",
       "    <tr>\n",
       "      <th>11856</th>\n",
       "      <td>rockstar (feat. roddy ricch)</td>\n",
       "      <td>DaBaby, Roddy Ricch</td>\n",
       "      <td>2020</td>\n",
       "      <td>99</td>\n",
       "    </tr>\n",
       "    <tr>\n",
       "      <th>11865</th>\n",
       "      <td>death bed (coffee for your head) (feat. beabad...</td>\n",
       "      <td>Powfu, beabadoobee</td>\n",
       "      <td>2020</td>\n",
       "      <td>97</td>\n",
       "    </tr>\n",
       "    <tr>\n",
       "      <th>11857</th>\n",
       "      <td>the scotts</td>\n",
       "      <td>THE SCOTTS, Travis Scott, Kid Cudi</td>\n",
       "      <td>2020</td>\n",
       "      <td>96</td>\n",
       "    </tr>\n",
       "    <tr>\n",
       "      <th>11862</th>\n",
       "      <td>toosie slide</td>\n",
       "      <td>Drake</td>\n",
       "      <td>2020</td>\n",
       "      <td>95</td>\n",
       "    </tr>\n",
       "    <tr>\n",
       "      <th>11859</th>\n",
       "      <td>party girl</td>\n",
       "      <td>StaySolidRocky</td>\n",
       "      <td>2020</td>\n",
       "      <td>94</td>\n",
       "    </tr>\n",
       "    <tr>\n",
       "      <th>11867</th>\n",
       "      <td>gooba</td>\n",
       "      <td>6ix9ine</td>\n",
       "      <td>2020</td>\n",
       "      <td>94</td>\n",
       "    </tr>\n",
       "    <tr>\n",
       "      <th>11868</th>\n",
       "      <td>rain on me (with ariana grande)</td>\n",
       "      <td>Lady Gaga, Ariana Grande</td>\n",
       "      <td>2020</td>\n",
       "      <td>94</td>\n",
       "    </tr>\n",
       "    <tr>\n",
       "      <th>11869</th>\n",
       "      <td>stuck with u (with justin bieber)</td>\n",
       "      <td>Ariana Grande, Justin Bieber</td>\n",
       "      <td>2020</td>\n",
       "      <td>94</td>\n",
       "    </tr>\n",
       "    <tr>\n",
       "      <th>11860</th>\n",
       "      <td>whats poppin</td>\n",
       "      <td>Jack Harlow</td>\n",
       "      <td>2020</td>\n",
       "      <td>92</td>\n",
       "    </tr>\n",
       "  </tbody>\n",
       "</table>\n",
       "</div>"
      ],
      "text/plain": [
       "                                                    name  ... popularity\n",
       "11858                                    blinding lights  ...        100\n",
       "11856                       rockstar (feat. roddy ricch)  ...         99\n",
       "11865  death bed (coffee for your head) (feat. beabad...  ...         97\n",
       "11857                                         the scotts  ...         96\n",
       "11862                                       toosie slide  ...         95\n",
       "11859                                         party girl  ...         94\n",
       "11867                                              gooba  ...         94\n",
       "11868                    rain on me (with ariana grande)  ...         94\n",
       "11869                  stuck with u (with justin bieber)  ...         94\n",
       "11860                                       whats poppin  ...         92\n",
       "\n",
       "[10 rows x 4 columns]"
      ]
     },
     "execution_count": 11,
     "metadata": {
      "tags": []
     },
     "output_type": "execute_result"
    }
   ],
   "source": [
    "popular_songs_2020 = data_songs_df[data_songs_df.year == 2020][['name','artists', 'year', 'popularity']].sort_values('popularity', ascending=False).head(10)\n",
    "popular_songs_2020"
   ]
  },
  {
   "cell_type": "code",
   "execution_count": null,
   "metadata": {
    "colab": {
     "base_uri": "https://localhost:8080/",
     "height": 302
    },
    "executionInfo": {
     "elapsed": 848,
     "status": "ok",
     "timestamp": 1602189045292,
     "user": {
      "displayName": "Hada Garcia",
      "photoUrl": "https://lh3.googleusercontent.com/a-/AOh14Gi-BhTuTj1QIs2vQZScRxNHuO1tSPc58vtRT-c4VQ=s64",
      "userId": "17697916405456863555"
     },
     "user_tz": -120
    },
    "id": "DK4zx4lYB9ga",
    "outputId": "538816b8-05bc-46fb-e500-9577ce93d5a7"
   },
   "outputs": [
    {
     "data": {
      "image/png": "[encoded data removed]",
      "text/plain": [
       "<Figure size 720x288 with 1 Axes>"
      ]
     },
     "metadata": {
      "needs_background": "light",
      "tags": []
     },
     "output_type": "display_data"
    }
   ],
   "source": [
    "plt.figure(figsize=(10,4))\n",
    "plt.title('Popular songs in 2020')\n",
    "sns.barplot(y=popular_songs_2020.name, x=popular_songs_2020.popularity);"
   ]
  },
  {
   "cell_type": "code",
   "execution_count": null,
   "metadata": {
    "id": "RfvF8eD5B9gi",
    "outputId": "f596318a-e298-411f-ba0e-273ba705656f"
   },
   "outputs": [
    {
     "data": {
      "application/javascript": [
       "window.require && require([\"base/js/namespace\"],function(Jupyter){Jupyter.notebook.save_checkpoint()})"
      ],
      "text/plain": [
       "<IPython.core.display.Javascript object>"
      ]
     },
     "metadata": {
      "tags": []
     },
     "output_type": "display_data"
    },
    {
     "name": "stdout",
     "output_type": "stream",
     "text": [
      "[jovian] Attempting to save notebook..\u001b[0m\n",
      "[jovian] Updating notebook \"hada-garcia/songs-analysis-final-project\" on https://jovian.ml/\u001b[0m\n",
      "[jovian] Uploading notebook..\u001b[0m\n",
      "[jovian] Capturing environment..\u001b[0m\n",
      "[jovian] Committed successfully! https://jovian.ml/hada-garcia/songs-analysis-final-project\u001b[0m\n"
     ]
    },
    {
     "data": {
      "text/plain": [
       "'https://jovian.ml/hada-garcia/songs-analysis-final-project'"
      ]
     },
     "execution_count": 57,
     "metadata": {
      "tags": []
     },
     "output_type": "execute_result"
    }
   ],
   "source": [
    "# Save our progress\n",
    "jovian.commit(project=project)"
   ]
  },
  {
   "cell_type": "markdown",
   "metadata": {
    "id": "Ba-Nz0-EB9gk"
   },
   "source": [
    "#### 2.2 Danceability and energy\n",
    "\n",
    "> Let's see which are the top 10 danceable songs of all years\n",
    "\n"
   ]
  },
  {
   "cell_type": "code",
   "execution_count": null,
   "metadata": {
    "colab": {
     "base_uri": "https://localhost:8080/",
     "height": 359
    },
    "executionInfo": {
     "elapsed": 596,
     "status": "ok",
     "timestamp": 1602194666698,
     "user": {
      "displayName": "Hada Garcia",
      "photoUrl": "https://lh3.googleusercontent.com/a-/AOh14Gi-BhTuTj1QIs2vQZScRxNHuO1tSPc58vtRT-c4VQ=s64",
      "userId": "17697916405456863555"
     },
     "user_tz": -120
    },
    "id": "bW2dzDmNB9gl",
    "outputId": "696fa3a5-789c-4638-dd0d-fd911c836784"
   },
   "outputs": [
    {
     "data": {
      "text/html": [
       "<div>\n",
       "<style scoped>\n",
       "    .dataframe tbody tr th:only-of-type {\n",
       "        vertical-align: middle;\n",
       "    }\n",
       "\n",
       "    .dataframe tbody tr th {\n",
       "        vertical-align: top;\n",
       "    }\n",
       "\n",
       "    .dataframe thead th {\n",
       "        text-align: right;\n",
       "    }\n",
       "</style>\n",
       "<table border=\"1\" class=\"dataframe\">\n",
       "  <thead>\n",
       "    <tr style=\"text-align: right;\">\n",
       "      <th></th>\n",
       "      <th>artists</th>\n",
       "      <th>danceability</th>\n",
       "      <th>energy</th>\n",
       "      <th>duration_mins</th>\n",
       "      <th>name</th>\n",
       "      <th>year</th>\n",
       "      <th>id</th>\n",
       "    </tr>\n",
       "  </thead>\n",
       "  <tbody>\n",
       "    <tr>\n",
       "      <th>16516</th>\n",
       "      <td>Pitbull, Trina, Young Bo</td>\n",
       "      <td>0.986</td>\n",
       "      <td>0.597</td>\n",
       "      <td>3.83</td>\n",
       "      <td>go girl</td>\n",
       "      <td>2012</td>\n",
       "      <td>1MgM0WDaoQ2A3bnIQTR6ty</td>\n",
       "    </tr>\n",
       "    <tr>\n",
       "      <th>10471</th>\n",
       "      <td>XXXTENTACION</td>\n",
       "      <td>0.979</td>\n",
       "      <td>0.401</td>\n",
       "      <td>2.52</td>\n",
       "      <td>up like an insomniac - freestyle</td>\n",
       "      <td>2017</td>\n",
       "      <td>5UJ3N25ukIruG4Do8RDHra</td>\n",
       "    </tr>\n",
       "    <tr>\n",
       "      <th>17173</th>\n",
       "      <td>Ambjaay</td>\n",
       "      <td>0.978</td>\n",
       "      <td>0.477</td>\n",
       "      <td>1.82</td>\n",
       "      <td>uno</td>\n",
       "      <td>2019</td>\n",
       "      <td>3AEgic4yp82NxMWUjHtxnO</td>\n",
       "    </tr>\n",
       "    <tr>\n",
       "      <th>2988</th>\n",
       "      <td>Quality Control, Lil Yachty, Quavo, Offset</td>\n",
       "      <td>0.977</td>\n",
       "      <td>0.303</td>\n",
       "      <td>2.42</td>\n",
       "      <td>menace</td>\n",
       "      <td>2017</td>\n",
       "      <td>0CjHqLvr4EdjBJ0XiKtbCI</td>\n",
       "    </tr>\n",
       "    <tr>\n",
       "      <th>3882</th>\n",
       "      <td>Juicy J, Wiz Khalifa, R. City</td>\n",
       "      <td>0.977</td>\n",
       "      <td>0.334</td>\n",
       "      <td>4.48</td>\n",
       "      <td>for everybody (feat. wiz khalifa &amp; r. city)</td>\n",
       "      <td>2015</td>\n",
       "      <td>1qJjofprTOxvqkIAdDixaP</td>\n",
       "    </tr>\n",
       "    <tr>\n",
       "      <th>7636</th>\n",
       "      <td>Lil Keed, Gunna</td>\n",
       "      <td>0.975</td>\n",
       "      <td>0.535</td>\n",
       "      <td>3.80</td>\n",
       "      <td>fox 5 (feat. gunna)</td>\n",
       "      <td>2020</td>\n",
       "      <td>0fo53bqWHuxcAsi28m51tx</td>\n",
       "    </tr>\n",
       "    <tr>\n",
       "      <th>12906</th>\n",
       "      <td>Young Thug, Lil Baby</td>\n",
       "      <td>0.974</td>\n",
       "      <td>0.596</td>\n",
       "      <td>2.48</td>\n",
       "      <td>bad bad bad (feat. lil baby)</td>\n",
       "      <td>2019</td>\n",
       "      <td>1GeNui6m825V8jP4uKiIaH</td>\n",
       "    </tr>\n",
       "    <tr>\n",
       "      <th>15606</th>\n",
       "      <td>Xavier Wulf</td>\n",
       "      <td>0.973</td>\n",
       "      <td>0.446</td>\n",
       "      <td>2.26</td>\n",
       "      <td>psycho pass</td>\n",
       "      <td>2014</td>\n",
       "      <td>3kZAm2TC74lBJFPDoV40Qc</td>\n",
       "    </tr>\n",
       "    <tr>\n",
       "      <th>6569</th>\n",
       "      <td>deadmau5, Wolfgang Gartner</td>\n",
       "      <td>0.973</td>\n",
       "      <td>0.468</td>\n",
       "      <td>6.25</td>\n",
       "      <td>animal rights</td>\n",
       "      <td>2010</td>\n",
       "      <td>5vHhUaBToEioiSu3RC1sbL</td>\n",
       "    </tr>\n",
       "    <tr>\n",
       "      <th>8473</th>\n",
       "      <td>Roddy Ricch</td>\n",
       "      <td>0.971</td>\n",
       "      <td>0.614</td>\n",
       "      <td>2.83</td>\n",
       "      <td>feed tha streets 2 (intro)</td>\n",
       "      <td>2018</td>\n",
       "      <td>3kgQ1kJC1WkuYVJuNJHPGA</td>\n",
       "    </tr>\n",
       "  </tbody>\n",
       "</table>\n",
       "</div>"
      ],
      "text/plain": [
       "                                          artists  ...                      id\n",
       "16516                    Pitbull, Trina, Young Bo  ...  1MgM0WDaoQ2A3bnIQTR6ty\n",
       "10471                                XXXTENTACION  ...  5UJ3N25ukIruG4Do8RDHra\n",
       "17173                                     Ambjaay  ...  3AEgic4yp82NxMWUjHtxnO\n",
       "2988   Quality Control, Lil Yachty, Quavo, Offset  ...  0CjHqLvr4EdjBJ0XiKtbCI\n",
       "3882                Juicy J, Wiz Khalifa, R. City  ...  1qJjofprTOxvqkIAdDixaP\n",
       "7636                              Lil Keed, Gunna  ...  0fo53bqWHuxcAsi28m51tx\n",
       "12906                        Young Thug, Lil Baby  ...  1GeNui6m825V8jP4uKiIaH\n",
       "15606                                 Xavier Wulf  ...  3kZAm2TC74lBJFPDoV40Qc\n",
       "6569                   deadmau5, Wolfgang Gartner  ...  5vHhUaBToEioiSu3RC1sbL\n",
       "8473                                  Roddy Ricch  ...  3kgQ1kJC1WkuYVJuNJHPGA\n",
       "\n",
       "[10 rows x 7 columns]"
      ]
     },
     "execution_count": 86,
     "metadata": {
      "tags": []
     },
     "output_type": "execute_result"
    }
   ],
   "source": [
    "dance_songs_columns = ['artists', 'danceability', 'energy', 'duration_mins', 'name', 'year', 'id']\n",
    "dance_songs = data_songs_df[dance_songs_columns].sort_values('danceability', ascending=False).head(10)\n",
    "dance_songs"
   ]
  },
  {
   "cell_type": "markdown",
   "metadata": {
    "id": "bvVUwRZ-B9gu"
   },
   "source": [
    "##### Relationship between the energy and danceability in a song. The more energetic the song is, the better the chances is a danceable song."
   ]
  },
  {
   "cell_type": "code",
   "execution_count": null,
   "metadata": {
    "colab": {
     "base_uri": "https://localhost:8080/",
     "height": 340
    },
    "executionInfo": {
     "elapsed": 851,
     "status": "ok",
     "timestamp": 1602194323215,
     "user": {
      "displayName": "Hada Garcia",
      "photoUrl": "https://lh3.googleusercontent.com/a-/AOh14Gi-BhTuTj1QIs2vQZScRxNHuO1tSPc58vtRT-c4VQ=s64",
      "userId": "17697916405456863555"
     },
     "user_tz": -120
    },
    "id": "Coo9Nsa8B9gu",
    "outputId": "6a0355be-ef33-498b-b8a1-9d6b60d63b6d"
   },
   "outputs": [
    {
     "data": {
      "image/png": "[encoded data removed]",
      "text/plain": [
       "<Figure size 648x360 with 1 Axes>"
      ]
     },
     "metadata": {
      "needs_background": "light",
      "tags": []
     },
     "output_type": "display_data"
    }
   ],
   "source": [
    "sns.scatterplot(x=dance_songs.danceability, y=dance_songs.energy, s=150);\n",
    "\n",
    "plt.plot(dance_songs.danceability, dance_songs.energy);"
   ]
  },
  {
   "cell_type": "markdown",
   "metadata": {
    "id": "JN4WBkbDB9gw"
   },
   "source": [
    "##### Although, is not directly related, since the most energetic song is also not very danceable.\n",
    "\n",
    "[Roddy Rich - feed tha streets 2 (intro)](https://open.spotify.com/track/3kgQ1kJC1WkuYVJuNJHPGA)"
   ]
  },
  {
   "cell_type": "code",
   "execution_count": null,
   "metadata": {
    "colab": {
     "base_uri": "https://localhost:8080/",
     "height": 80
    },
    "executionInfo": {
     "elapsed": 1470,
     "status": "ok",
     "timestamp": 1602194608864,
     "user": {
      "displayName": "Hada Garcia",
      "photoUrl": "https://lh3.googleusercontent.com/a-/AOh14Gi-BhTuTj1QIs2vQZScRxNHuO1tSPc58vtRT-c4VQ=s64",
      "userId": "17697916405456863555"
     },
     "user_tz": -120
    },
    "id": "vxn8rPvBB9gw",
    "outputId": "0e3bd826-22d7-42b9-ef89-c54da97f7dba"
   },
   "outputs": [
    {
     "data": {
      "text/html": [
       "<div>\n",
       "<style scoped>\n",
       "    .dataframe tbody tr th:only-of-type {\n",
       "        vertical-align: middle;\n",
       "    }\n",
       "\n",
       "    .dataframe tbody tr th {\n",
       "        vertical-align: top;\n",
       "    }\n",
       "\n",
       "    .dataframe thead th {\n",
       "        text-align: right;\n",
       "    }\n",
       "</style>\n",
       "<table border=\"1\" class=\"dataframe\">\n",
       "  <thead>\n",
       "    <tr style=\"text-align: right;\">\n",
       "      <th></th>\n",
       "      <th>artists</th>\n",
       "      <th>danceability</th>\n",
       "      <th>energy</th>\n",
       "      <th>duration_mins</th>\n",
       "      <th>name</th>\n",
       "      <th>year</th>\n",
       "    </tr>\n",
       "  </thead>\n",
       "  <tbody>\n",
       "    <tr>\n",
       "      <th>8473</th>\n",
       "      <td>Roddy Ricch</td>\n",
       "      <td>0.971</td>\n",
       "      <td>0.614</td>\n",
       "      <td>2.83</td>\n",
       "      <td>feed tha streets 2 (intro)</td>\n",
       "      <td>2018</td>\n",
       "    </tr>\n",
       "  </tbody>\n",
       "</table>\n",
       "</div>"
      ],
      "text/plain": [
       "          artists  danceability  ...                        name  year\n",
       "8473  Roddy Ricch         0.971  ...  feed tha streets 2 (intro)  2018\n",
       "\n",
       "[1 rows x 6 columns]"
      ]
     },
     "execution_count": 85,
     "metadata": {
      "tags": []
     },
     "output_type": "execute_result"
    }
   ],
   "source": [
    "dance_songs.loc[dance_songs.energy > 0.60].sort_values('energy', ascending=False)"
   ]
  },
  {
   "cell_type": "markdown",
   "metadata": {
    "id": "OsBcBmtURjN-"
   },
   "source": [
    "##### The most danceable song is [Pitbull, Trina, Young Bo - go girl](https://open.spotify.com/track/1MgM0WDaoQ2A3bnIQTR6ty)\n",
    "\n",
    "> *Although I don't really understand the metrics, since I'm a latina and for me, this is not a song that I feel like dancing with :P*\n",
    "\n"
   ]
  },
  {
   "cell_type": "code",
   "execution_count": null,
   "metadata": {
    "colab": {
     "base_uri": "https://localhost:8080/",
     "height": 142
    },
    "executionInfo": {
     "elapsed": 594,
     "status": "ok",
     "timestamp": 1602195348802,
     "user": {
      "displayName": "Hada Garcia",
      "photoUrl": "https://lh3.googleusercontent.com/a-/AOh14Gi-BhTuTj1QIs2vQZScRxNHuO1tSPc58vtRT-c4VQ=s64",
      "userId": "17697916405456863555"
     },
     "user_tz": -120
    },
    "id": "vdJiCuPHR9jA",
    "outputId": "f9bcac44-c5ce-4750-846b-e025337b469c"
   },
   "outputs": [
    {
     "data": {
      "text/html": [
       "<div>\n",
       "<style scoped>\n",
       "    .dataframe tbody tr th:only-of-type {\n",
       "        vertical-align: middle;\n",
       "    }\n",
       "\n",
       "    .dataframe tbody tr th {\n",
       "        vertical-align: top;\n",
       "    }\n",
       "\n",
       "    .dataframe thead th {\n",
       "        text-align: right;\n",
       "    }\n",
       "</style>\n",
       "<table border=\"1\" class=\"dataframe\">\n",
       "  <thead>\n",
       "    <tr style=\"text-align: right;\">\n",
       "      <th></th>\n",
       "      <th>artists</th>\n",
       "      <th>danceability</th>\n",
       "      <th>energy</th>\n",
       "      <th>duration_mins</th>\n",
       "      <th>name</th>\n",
       "      <th>year</th>\n",
       "      <th>id</th>\n",
       "    </tr>\n",
       "  </thead>\n",
       "  <tbody>\n",
       "    <tr>\n",
       "      <th>16516</th>\n",
       "      <td>Pitbull, Trina, Young Bo</td>\n",
       "      <td>0.986</td>\n",
       "      <td>0.597</td>\n",
       "      <td>3.83</td>\n",
       "      <td>go girl</td>\n",
       "      <td>2012</td>\n",
       "      <td>1MgM0WDaoQ2A3bnIQTR6ty</td>\n",
       "    </tr>\n",
       "    <tr>\n",
       "      <th>10471</th>\n",
       "      <td>XXXTENTACION</td>\n",
       "      <td>0.979</td>\n",
       "      <td>0.401</td>\n",
       "      <td>2.52</td>\n",
       "      <td>up like an insomniac - freestyle</td>\n",
       "      <td>2017</td>\n",
       "      <td>5UJ3N25ukIruG4Do8RDHra</td>\n",
       "    </tr>\n",
       "    <tr>\n",
       "      <th>17173</th>\n",
       "      <td>Ambjaay</td>\n",
       "      <td>0.978</td>\n",
       "      <td>0.477</td>\n",
       "      <td>1.82</td>\n",
       "      <td>uno</td>\n",
       "      <td>2019</td>\n",
       "      <td>3AEgic4yp82NxMWUjHtxnO</td>\n",
       "    </tr>\n",
       "  </tbody>\n",
       "</table>\n",
       "</div>"
      ],
      "text/plain": [
       "                        artists  danceability  ...  year                      id\n",
       "16516  Pitbull, Trina, Young Bo         0.986  ...  2012  1MgM0WDaoQ2A3bnIQTR6ty\n",
       "10471              XXXTENTACION         0.979  ...  2017  5UJ3N25ukIruG4Do8RDHra\n",
       "17173                   Ambjaay         0.978  ...  2019  3AEgic4yp82NxMWUjHtxnO\n",
       "\n",
       "[3 rows x 7 columns]"
      ]
     },
     "execution_count": 88,
     "metadata": {
      "tags": []
     },
     "output_type": "execute_result"
    }
   ],
   "source": [
    "dance_songs.sort_values('danceability', ascending=False).head(3)"
   ]
  },
  {
   "cell_type": "markdown",
   "metadata": {
    "id": "EZwlZvH9hMcy"
   },
   "source": [
    "#### 2.3 Explicit content\n",
    "\n",
    "> Songs with explicit content which could be considered offensive or unsuitable for children: strong language (one word is already enough); references to violence, physical, or mental abuse; ... discriminatory language\n",
    "\n"
   ]
  },
  {
   "cell_type": "code",
   "execution_count": null,
   "metadata": {
    "colab": {
     "base_uri": "https://localhost:8080/",
     "height": 68
    },
    "executionInfo": {
     "elapsed": 600,
     "status": "ok",
     "timestamp": 1602251056489,
     "user": {
      "displayName": "Hada Garcia",
      "photoUrl": "https://lh3.googleusercontent.com/a-/AOh14Gi-BhTuTj1QIs2vQZScRxNHuO1tSPc58vtRT-c4VQ=s64",
      "userId": "17697916405456863555"
     },
     "user_tz": -120
    },
    "id": "GkBIknqSB9gK",
    "outputId": "c0a45089-027b-4f14-a1fe-4e56aa688ba6"
   },
   "outputs": [
    {
     "data": {
      "text/plain": [
       "0    15100\n",
       "1     6556\n",
       "Name: explicit, dtype: int64"
      ]
     },
     "execution_count": 10,
     "metadata": {
      "tags": []
     },
     "output_type": "execute_result"
    }
   ],
   "source": [
    "explicit_songs = data_songs_df['explicit'].value_counts()\n",
    "explicit_songs"
   ]
  },
  {
   "cell_type": "code",
   "execution_count": null,
   "metadata": {
    "colab": {
     "base_uri": "https://localhost:8080/",
     "height": 211
    },
    "executionInfo": {
     "elapsed": 635,
     "status": "ok",
     "timestamp": 1602251769911,
     "user": {
      "displayName": "Hada Garcia",
      "photoUrl": "https://lh3.googleusercontent.com/a-/AOh14Gi-BhTuTj1QIs2vQZScRxNHuO1tSPc58vtRT-c4VQ=s64",
      "userId": "17697916405456863555"
     },
     "user_tz": -120
    },
    "id": "3wwvsEz5lsIM",
    "outputId": "f2058c74-e699-469c-bafd-daaf46bb852a"
   },
   "outputs": [
    {
     "data": {
      "image/png": "[encoded data removed]",
      "text/plain": [
       "<Figure size 216x216 with 1 Axes>"
      ]
     },
     "metadata": {
      "tags": []
     },
     "output_type": "display_data"
    }
   ],
   "source": [
    "plt.figure(figsize=(3,3))\n",
    "plt.title('Explicit songs')\n",
    "plt.pie(explicit_songs, labels=['not explicit', 'explicit'], counterclock=False);"
   ]
  },
  {
   "cell_type": "code",
   "execution_count": null,
   "metadata": {
    "colab": {
     "base_uri": "https://localhost:8080/",
     "height": 137
    },
    "executionInfo": {
     "elapsed": 17285,
     "status": "ok",
     "timestamp": 1602250643982,
     "user": {
      "displayName": "Hada Garcia",
      "photoUrl": "https://lh3.googleusercontent.com/a-/AOh14Gi-BhTuTj1QIs2vQZScRxNHuO1tSPc58vtRT-c4VQ=s64",
      "userId": "17697916405456863555"
     },
     "user_tz": -120
    },
    "id": "BNcwbNnflC3R",
    "outputId": "c083a9fa-04e3-4cd3-9796-18b3e3f846a2"
   },
   "outputs": [
    {
     "name": "stdout",
     "output_type": "stream",
     "text": [
      "[jovian] Detected Colab notebook...\u001b[0m\n",
      "[jovian] Please enter your API key ( from https://jovian.ml/ ):\u001b[0m\n",
      "API KEY: ··········\n",
      "[jovian] Uploading colab notebook to Jovian...\u001b[0m\n",
      "[jovian] Capturing environment..\u001b[0m\n",
      "[jovian] Committed successfully! https://jovian.ml/hada-garcia/songs-analysis-final-project\u001b[0m\n"
     ]
    },
    {
     "data": {
      "application/vnd.google.colaboratory.intrinsic+json": {
       "type": "string"
      },
      "text/plain": [
       "'https://jovian.ml/hada-garcia/songs-analysis-final-project'"
      ]
     },
     "execution_count": 9,
     "metadata": {
      "tags": []
     },
     "output_type": "execute_result"
    }
   ],
   "source": [
    "# Save our progress\n",
    "jovian.commit(project=project)"
   ]
  },
  {
   "cell_type": "markdown",
   "metadata": {
    "id": "4l5kgHGVB9g3"
   },
   "source": [
    "## **3. Asking and answering questions**\n",
    "\n",
    "\n",
    "> Now let's make some questions related to our data\n",
    "\n"
   ]
  },
  {
   "cell_type": "markdown",
   "metadata": {
    "id": "0FTD6KFGrPY0"
   },
   "source": [
    "#### **Q1: How does it look with the explicit content over the years?**\n",
    "\n",
    "\n",
    "> We'll analyze the tendency to use explicit content over the years based only on this dataset, although this could be worth it to be analyzed independently using different datasets.\n",
    "\n"
   ]
  },
  {
   "cell_type": "code",
   "execution_count": null,
   "metadata": {
    "colab": {
     "base_uri": "https://localhost:8080/",
     "height": 238
    },
    "executionInfo": {
     "elapsed": 571,
     "status": "ok",
     "timestamp": 1602194040668,
     "user": {
      "displayName": "Hada Garcia",
      "photoUrl": "https://lh3.googleusercontent.com/a-/AOh14Gi-BhTuTj1QIs2vQZScRxNHuO1tSPc58vtRT-c4VQ=s64",
      "userId": "17697916405456863555"
     },
     "user_tz": -120
    },
    "id": "P_YkAKdAtRiJ",
    "outputId": "dbdd29a2-fb60-4a5c-f353-89adeb0f9d67"
   },
   "outputs": [
    {
     "data": {
      "text/plain": [
       "year\n",
       "2010    301\n",
       "2011    358\n",
       "2012    404\n",
       "2013    504\n",
       "2014    458\n",
       "2015    528\n",
       "2016    656\n",
       "2017    698\n",
       "2018    936\n",
       "2019    848\n",
       "2020    865\n",
       "Name: explicit, dtype: int64"
      ]
     },
     "execution_count": 78,
     "metadata": {
      "tags": []
     },
     "output_type": "execute_result"
    }
   ],
   "source": [
    "explicit_songs = data_songs_df.groupby('year')['explicit'].sum()\n",
    "explicit_songs"
   ]
  },
  {
   "cell_type": "code",
   "execution_count": null,
   "metadata": {
    "colab": {
     "base_uri": "https://localhost:8080/",
     "height": 323
    },
    "executionInfo": {
     "elapsed": 856,
     "status": "ok",
     "timestamp": 1602185828067,
     "user": {
      "displayName": "Hada Garcia",
      "photoUrl": "https://lh3.googleusercontent.com/a-/AOh14Gi-BhTuTj1QIs2vQZScRxNHuO1tSPc58vtRT-c4VQ=s64",
      "userId": "17697916405456863555"
     },
     "user_tz": -120
    },
    "id": "OEAOExJvt1Fs",
    "outputId": "6e5d6fc9-c257-4b54-9ea1-2308e7af09d3"
   },
   "outputs": [
    {
     "data": {
      "image/png": "[encoded data removed]",
      "text/plain": [
       "<Figure size 648x360 with 1 Axes>"
      ]
     },
     "metadata": {
      "needs_background": "light",
      "tags": []
     },
     "output_type": "display_data"
    }
   ],
   "source": [
    "years = range(2010, 2021)\n",
    "plt.bar(years, explicit_songs);"
   ]
  },
  {
   "cell_type": "code",
   "execution_count": null,
   "metadata": {
    "colab": {
     "base_uri": "https://localhost:8080/",
     "height": 34
    },
    "executionInfo": {
     "elapsed": 609,
     "status": "ok",
     "timestamp": 1602266556354,
     "user": {
      "displayName": "Hada Garcia",
      "photoUrl": "https://lh3.googleusercontent.com/a-/AOh14Gi-BhTuTj1QIs2vQZScRxNHuO1tSPc58vtRT-c4VQ=s64",
      "userId": "17697916405456863555"
     },
     "user_tz": -120
    },
    "id": "c0X7Vumwd7pA",
    "outputId": "2a7a4cc9-a47c-4a10-a2a1-305652d9afe4"
   },
   "outputs": [
    {
     "name": "stdout",
     "output_type": "stream",
     "text": [
      "Last released songs on 2020 are in the 6th month\n"
     ]
    }
   ],
   "source": [
    "last_month_2020 = data_songs_df[data_songs_df.year == 2020].sort_values('release_month', ascending=False).head(1)\n",
    "print('Last released songs on 2020 are in the {}th month'.format(list(last_month_2020.release_month)[0]))"
   ]
  },
  {
   "cell_type": "markdown",
   "metadata": {
    "id": "UwTjJj_OHRgD"
   },
   "source": [
    "*It seems like over the years, the explicit content is more present on the songs. The year 2018 is the one with more explicit content songs, total of 936. We also must consider that the last month, where a song was released this year is June, it means only half year is considered. So, the count of explicit songs could be bigger than 2018*"
   ]
  },
  {
   "cell_type": "markdown",
   "metadata": {
    "id": "pEoTfk0QelIy"
   },
   "source": [
    "#### **Q2: Comparison by year, which characteristics are more predominant?**"
   ]
  },
  {
   "cell_type": "code",
   "execution_count": null,
   "metadata": {
    "colab": {
     "base_uri": "https://localhost:8080/",
     "height": 421
    },
    "executionInfo": {
     "elapsed": 613,
     "status": "ok",
     "timestamp": 1602194053357,
     "user": {
      "displayName": "Hada Garcia",
      "photoUrl": "https://lh3.googleusercontent.com/a-/AOh14Gi-BhTuTj1QIs2vQZScRxNHuO1tSPc58vtRT-c4VQ=s64",
      "userId": "17697916405456863555"
     },
     "user_tz": -120
    },
    "id": "D6e7ByPVfR8L",
    "outputId": "5e1b5da9-dd45-45db-e506-6ca3dd594aa8"
   },
   "outputs": [
    {
     "data": {
      "text/html": [
       "<div>\n",
       "<style scoped>\n",
       "    .dataframe tbody tr th:only-of-type {\n",
       "        vertical-align: middle;\n",
       "    }\n",
       "\n",
       "    .dataframe tbody tr th {\n",
       "        vertical-align: top;\n",
       "    }\n",
       "\n",
       "    .dataframe thead th {\n",
       "        text-align: right;\n",
       "    }\n",
       "</style>\n",
       "<table border=\"1\" class=\"dataframe\">\n",
       "  <thead>\n",
       "    <tr style=\"text-align: right;\">\n",
       "      <th></th>\n",
       "      <th>duration_mins</th>\n",
       "      <th>danceability</th>\n",
       "      <th>energy</th>\n",
       "      <th>explicit</th>\n",
       "      <th>speechiness</th>\n",
       "    </tr>\n",
       "    <tr>\n",
       "      <th>year</th>\n",
       "      <th></th>\n",
       "      <th></th>\n",
       "      <th></th>\n",
       "      <th></th>\n",
       "      <th></th>\n",
       "    </tr>\n",
       "  </thead>\n",
       "  <tbody>\n",
       "    <tr>\n",
       "      <th>2010</th>\n",
       "      <td>4.059100</td>\n",
       "      <td>0.577811</td>\n",
       "      <td>0.693696</td>\n",
       "      <td>0.150500</td>\n",
       "      <td>0.086007</td>\n",
       "    </tr>\n",
       "    <tr>\n",
       "      <th>2011</th>\n",
       "      <td>3.943075</td>\n",
       "      <td>0.559822</td>\n",
       "      <td>0.671269</td>\n",
       "      <td>0.179000</td>\n",
       "      <td>0.089902</td>\n",
       "    </tr>\n",
       "    <tr>\n",
       "      <th>2012</th>\n",
       "      <td>4.042460</td>\n",
       "      <td>0.571695</td>\n",
       "      <td>0.669811</td>\n",
       "      <td>0.202000</td>\n",
       "      <td>0.083701</td>\n",
       "    </tr>\n",
       "    <tr>\n",
       "      <th>2013</th>\n",
       "      <td>3.992810</td>\n",
       "      <td>0.578874</td>\n",
       "      <td>0.656467</td>\n",
       "      <td>0.252000</td>\n",
       "      <td>0.097622</td>\n",
       "    </tr>\n",
       "    <tr>\n",
       "      <th>2014</th>\n",
       "      <td>3.865810</td>\n",
       "      <td>0.589574</td>\n",
       "      <td>0.653497</td>\n",
       "      <td>0.229000</td>\n",
       "      <td>0.084671</td>\n",
       "    </tr>\n",
       "    <tr>\n",
       "      <th>2015</th>\n",
       "      <td>3.745049</td>\n",
       "      <td>0.591008</td>\n",
       "      <td>0.633499</td>\n",
       "      <td>0.273433</td>\n",
       "      <td>0.095743</td>\n",
       "    </tr>\n",
       "    <tr>\n",
       "      <th>2016</th>\n",
       "      <td>3.656638</td>\n",
       "      <td>0.599976</td>\n",
       "      <td>0.592877</td>\n",
       "      <td>0.333164</td>\n",
       "      <td>0.107298</td>\n",
       "    </tr>\n",
       "    <tr>\n",
       "      <th>2017</th>\n",
       "      <td>3.489140</td>\n",
       "      <td>0.612286</td>\n",
       "      <td>0.586739</td>\n",
       "      <td>0.349000</td>\n",
       "      <td>0.111752</td>\n",
       "    </tr>\n",
       "    <tr>\n",
       "      <th>2018</th>\n",
       "      <td>3.348755</td>\n",
       "      <td>0.664930</td>\n",
       "      <td>0.590591</td>\n",
       "      <td>0.468000</td>\n",
       "      <td>0.128140</td>\n",
       "    </tr>\n",
       "    <tr>\n",
       "      <th>2019</th>\n",
       "      <td>3.295605</td>\n",
       "      <td>0.644215</td>\n",
       "      <td>0.578796</td>\n",
       "      <td>0.424000</td>\n",
       "      <td>0.124799</td>\n",
       "    </tr>\n",
       "    <tr>\n",
       "      <th>2020</th>\n",
       "      <td>3.285245</td>\n",
       "      <td>0.673077</td>\n",
       "      <td>0.611914</td>\n",
       "      <td>0.492597</td>\n",
       "      <td>0.143505</td>\n",
       "    </tr>\n",
       "  </tbody>\n",
       "</table>\n",
       "</div>"
      ],
      "text/plain": [
       "      duration_mins  danceability    energy  explicit  speechiness\n",
       "year                                                              \n",
       "2010       4.059100      0.577811  0.693696  0.150500     0.086007\n",
       "2011       3.943075      0.559822  0.671269  0.179000     0.089902\n",
       "2012       4.042460      0.571695  0.669811  0.202000     0.083701\n",
       "2013       3.992810      0.578874  0.656467  0.252000     0.097622\n",
       "2014       3.865810      0.589574  0.653497  0.229000     0.084671\n",
       "2015       3.745049      0.591008  0.633499  0.273433     0.095743\n",
       "2016       3.656638      0.599976  0.592877  0.333164     0.107298\n",
       "2017       3.489140      0.612286  0.586739  0.349000     0.111752\n",
       "2018       3.348755      0.664930  0.590591  0.468000     0.128140\n",
       "2019       3.295605      0.644215  0.578796  0.424000     0.124799\n",
       "2020       3.285245      0.673077  0.611914  0.492597     0.143505"
      ]
     },
     "execution_count": 79,
     "metadata": {
      "tags": []
     },
     "output_type": "execute_result"
    }
   ],
   "source": [
    "relevant_columns_q2 = ['duration_mins', 'danceability', 'energy', 'explicit', 'speechiness', 'year']\n",
    "songs_by_year = data_songs_df[relevant_columns_q2].groupby('year').mean()\n",
    "songs_by_year"
   ]
  },
  {
   "cell_type": "code",
   "execution_count": null,
   "metadata": {
    "colab": {
     "base_uri": "https://localhost:8080/",
     "height": 366
    },
    "executionInfo": {
     "elapsed": 1640,
     "status": "ok",
     "timestamp": 1602192334120,
     "user": {
      "displayName": "Hada Garcia",
      "photoUrl": "https://lh3.googleusercontent.com/a-/AOh14Gi-BhTuTj1QIs2vQZScRxNHuO1tSPc58vtRT-c4VQ=s64",
      "userId": "17697916405456863555"
     },
     "user_tz": -120
    },
    "id": "iZCRwRJj2Yvr",
    "outputId": "bb07f1d7-c6ba-4f12-8929-184a6a3e26f4"
   },
   "outputs": [
    {
     "data": {
      "image/png": "[encoded data removed]",
      "text/plain": [
       "<Figure size 1440x360 with 2 Axes>"
      ]
     },
     "metadata": {
      "needs_background": "light",
      "tags": []
     },
     "output_type": "display_data"
    }
   ],
   "source": [
    "# Using subplots we can define a grid of graphs\n",
    "fig, (plt1, plt2) = plt.subplots(1, 2, figsize=(20,5))\n",
    "\n",
    "plt1.set_title('Main characteristics')\n",
    "sns.lineplot(data=songs_by_year[['danceability', 'energy', 'explicit', 'speechiness']], palette=\"tab10\", linewidth=2.5, ax=plt1);\n",
    "\n",
    "plt2.set_title('Average songs duration')\n",
    "plt2.plot(songs_by_year.index, songs_by_year.duration_mins)\n",
    "\n",
    "plt.tight_layout(pad=1, w_pad=5);"
   ]
  },
  {
   "cell_type": "markdown",
   "metadata": {
    "id": "L_2MhQOxpGpU"
   },
   "source": [
    "*Some conclusions on average per year: (Year 2020 info is not complete, thus the calculations might not be so accurate for this year)*\n",
    "\n",
    "\n",
    "*   songs have a tendency to be shorter, with an average of 3.28 mins duration the last year (2020).\n",
    "*   explicit content has increased the most the last 6 years.\n",
    "*   the presence of spoken words in a song has increased.\n",
    "*   is interesting that the energy has decreased since danceability has increased, would've thought they go together.\n"
   ]
  },
  {
   "cell_type": "code",
   "execution_count": null,
   "metadata": {
    "colab": {
     "base_uri": "https://localhost:8080/",
     "height": 103
    },
    "executionInfo": {
     "elapsed": 4500,
     "status": "ok",
     "timestamp": 1602260156187,
     "user": {
      "displayName": "Hada Garcia",
      "photoUrl": "https://lh3.googleusercontent.com/a-/AOh14Gi-BhTuTj1QIs2vQZScRxNHuO1tSPc58vtRT-c4VQ=s64",
      "userId": "17697916405456863555"
     },
     "user_tz": -120
    },
    "id": "Y392R-7Ii_QJ",
    "outputId": "6990d387-8265-4df3-9f37-734811822c30"
   },
   "outputs": [
    {
     "name": "stdout",
     "output_type": "stream",
     "text": [
      "[jovian] Detected Colab notebook...\u001b[0m\n",
      "[jovian] Uploading colab notebook to Jovian...\u001b[0m\n",
      "[jovian] Capturing environment..\u001b[0m\n",
      "[jovian] Committed successfully! https://jovian.ml/hada-garcia/songs-analysis-final-project\u001b[0m\n"
     ]
    },
    {
     "data": {
      "application/vnd.google.colaboratory.intrinsic+json": {
       "type": "string"
      },
      "text/plain": [
       "'https://jovian.ml/hada-garcia/songs-analysis-final-project'"
      ]
     },
     "execution_count": 106,
     "metadata": {
      "tags": []
     },
     "output_type": "execute_result"
    }
   ],
   "source": [
    "# Save our progress\n",
    "jovian.commit(project=project)"
   ]
  },
  {
   "cell_type": "markdown",
   "metadata": {
    "id": "3t4xEJlEWJJg"
   },
   "source": [
    "#### **Q3: How many songs in spanish contain romantic words on the title.**\n",
    "\n",
    "> To achieve this I'll search by pattern with romantic words in spanish\n",
    "\n"
   ]
  },
  {
   "cell_type": "code",
   "execution_count": null,
   "metadata": {
    "colab": {
     "base_uri": "https://localhost:8080/",
     "height": 419
    },
    "executionInfo": {
     "elapsed": 575,
     "status": "ok",
     "timestamp": 1602197928765,
     "user": {
      "displayName": "Hada Garcia",
      "photoUrl": "https://lh3.googleusercontent.com/a-/AOh14Gi-BhTuTj1QIs2vQZScRxNHuO1tSPc58vtRT-c4VQ=s64",
      "userId": "17697916405456863555"
     },
     "user_tz": -120
    },
    "id": "kRPAjA-4B9g6",
    "outputId": "4a01043e-1558-44ed-d836-7964a77afe51"
   },
   "outputs": [
    {
     "data": {
      "text/html": [
       "<div>\n",
       "<style scoped>\n",
       "    .dataframe tbody tr th:only-of-type {\n",
       "        vertical-align: middle;\n",
       "    }\n",
       "\n",
       "    .dataframe tbody tr th {\n",
       "        vertical-align: top;\n",
       "    }\n",
       "\n",
       "    .dataframe thead th {\n",
       "        text-align: right;\n",
       "    }\n",
       "</style>\n",
       "<table border=\"1\" class=\"dataframe\">\n",
       "  <thead>\n",
       "    <tr style=\"text-align: right;\">\n",
       "      <th></th>\n",
       "      <th>artists</th>\n",
       "      <th>name</th>\n",
       "      <th>popularity</th>\n",
       "      <th>year</th>\n",
       "    </tr>\n",
       "  </thead>\n",
       "  <tbody>\n",
       "    <tr>\n",
       "      <th>12923</th>\n",
       "      <td>Natanael Cano</td>\n",
       "      <td>amor tumbado</td>\n",
       "      <td>79</td>\n",
       "      <td>2019</td>\n",
       "    </tr>\n",
       "    <tr>\n",
       "      <th>2155</th>\n",
       "      <td>Christian Nodal</td>\n",
       "      <td>amor tóxico</td>\n",
       "      <td>76</td>\n",
       "      <td>2020</td>\n",
       "    </tr>\n",
       "    <tr>\n",
       "      <th>13839</th>\n",
       "      <td>Christian Nodal</td>\n",
       "      <td>adiós amor</td>\n",
       "      <td>74</td>\n",
       "      <td>2017</td>\n",
       "    </tr>\n",
       "    <tr>\n",
       "      <th>21492</th>\n",
       "      <td>La Adictiva Banda San José de Mesillas</td>\n",
       "      <td>el amor de mi vida</td>\n",
       "      <td>73</td>\n",
       "      <td>2019</td>\n",
       "    </tr>\n",
       "    <tr>\n",
       "      <th>19263</th>\n",
       "      <td>Grupo Firme, Banda Coloso</td>\n",
       "      <td>el amor no fue pa´ mí - en vivo</td>\n",
       "      <td>73</td>\n",
       "      <td>2019</td>\n",
       "    </tr>\n",
       "    <tr>\n",
       "      <th>...</th>\n",
       "      <td>...</td>\n",
       "      <td>...</td>\n",
       "      <td>...</td>\n",
       "      <td>...</td>\n",
       "    </tr>\n",
       "    <tr>\n",
       "      <th>7755</th>\n",
       "      <td>Tierra Cali</td>\n",
       "      <td>maldito amor</td>\n",
       "      <td>44</td>\n",
       "      <td>2010</td>\n",
       "    </tr>\n",
       "    <tr>\n",
       "      <th>8682</th>\n",
       "      <td>Zacarias Ferreira</td>\n",
       "      <td>se marcho el amor</td>\n",
       "      <td>44</td>\n",
       "      <td>2010</td>\n",
       "    </tr>\n",
       "    <tr>\n",
       "      <th>5677</th>\n",
       "      <td>Axel</td>\n",
       "      <td>te voy a amar</td>\n",
       "      <td>43</td>\n",
       "      <td>2011</td>\n",
       "    </tr>\n",
       "    <tr>\n",
       "      <th>9825</th>\n",
       "      <td>Alacranes Musical</td>\n",
       "      <td>dame tu amor</td>\n",
       "      <td>41</td>\n",
       "      <td>2010</td>\n",
       "    </tr>\n",
       "    <tr>\n",
       "      <th>9664</th>\n",
       "      <td>Juanes</td>\n",
       "      <td>nada valgo sin tu amor</td>\n",
       "      <td>0</td>\n",
       "      <td>2020</td>\n",
       "    </tr>\n",
       "  </tbody>\n",
       "</table>\n",
       "<p>73 rows × 4 columns</p>\n",
       "</div>"
      ],
      "text/plain": [
       "                                      artists  ...  year\n",
       "12923                           Natanael Cano  ...  2019\n",
       "2155                          Christian Nodal  ...  2020\n",
       "13839                         Christian Nodal  ...  2017\n",
       "21492  La Adictiva Banda San José de Mesillas  ...  2019\n",
       "19263               Grupo Firme, Banda Coloso  ...  2019\n",
       "...                                       ...  ...   ...\n",
       "7755                              Tierra Cali  ...  2010\n",
       "8682                        Zacarias Ferreira  ...  2010\n",
       "5677                                     Axel  ...  2011\n",
       "9825                        Alacranes Musical  ...  2010\n",
       "9664                                   Juanes  ...  2020\n",
       "\n",
       "[73 rows x 4 columns]"
      ]
     },
     "execution_count": 119,
     "metadata": {
      "tags": []
     },
     "output_type": "execute_result"
    }
   ],
   "source": [
    "# Here we can play a bit with regular expresions. \n",
    "# \\\\b means we want to look for the specific words, otherwise the results will include words that contain partially for example the word 'amo'\n",
    "\n",
    "relevant_columns_q3 = ['artists', 'name', 'popularity', 'year']\n",
    "love_words_spanish = '\\\\b(?:amor|amar|amaré|amando|amé|amo|amas|querer|querida|querido|te quiero|me gustas|cariño)\\\\b';\n",
    "love_songs_df = data_songs_df[relevant_columns_q3][data_songs_df.name.str.contains(love_words_spanish, regex=True)].sort_values('popularity', ascending=False)\n",
    "love_songs_df\n"
   ]
  },
  {
   "cell_type": "code",
   "execution_count": null,
   "metadata": {
    "colab": {
     "base_uri": "https://localhost:8080/",
     "height": 357
    },
    "executionInfo": {
     "elapsed": 1184,
     "status": "ok",
     "timestamp": 1602198020705,
     "user": {
      "displayName": "Hada Garcia",
      "photoUrl": "https://lh3.googleusercontent.com/a-/AOh14Gi-BhTuTj1QIs2vQZScRxNHuO1tSPc58vtRT-c4VQ=s64",
      "userId": "17697916405456863555"
     },
     "user_tz": -120
    },
    "id": "wploq3LQOhzv",
    "outputId": "71e0cd9d-20b8-47ff-f378-9aa4e96d37e0"
   },
   "outputs": [
    {
     "data": {
      "image/png": "[encoded data removed]",
      "text/plain": [
       "<Figure size 648x360 with 1 Axes>"
      ]
     },
     "metadata": {
      "needs_background": "light",
      "tags": []
     },
     "output_type": "display_data"
    }
   ],
   "source": [
    "plt.title('Songs in spanish including romantic words')\n",
    "sns.barplot(x=love_songs_df.year, y=love_songs_df.popularity);"
   ]
  },
  {
   "cell_type": "markdown",
   "metadata": {
    "id": "8lv3SEIqAl5m"
   },
   "source": [
    "*This results don't reflect the sentiment on the songs, since we're only taking as argument the title of the song, it's just an interesting search, since it's very probable, that the songs will talk about love, since the title includes a romantic word, I was just curious about that ;)* <br>\n",
    "*Specially latinos, tend to be quite romantic*"
   ]
  },
  {
   "cell_type": "code",
   "execution_count": null,
   "metadata": {
    "colab": {
     "base_uri": "https://localhost:8080/",
     "height": 103
    },
    "executionInfo": {
     "elapsed": 3963,
     "status": "ok",
     "timestamp": 1602265189941,
     "user": {
      "displayName": "Hada Garcia",
      "photoUrl": "https://lh3.googleusercontent.com/a-/AOh14Gi-BhTuTj1QIs2vQZScRxNHuO1tSPc58vtRT-c4VQ=s64",
      "userId": "17697916405456863555"
     },
     "user_tz": -120
    },
    "id": "qI6tACOlbwY-",
    "outputId": "81b13fc3-30d4-44b4-c983-911267ebe514"
   },
   "outputs": [
    {
     "name": "stdout",
     "output_type": "stream",
     "text": [
      "[jovian] Detected Colab notebook...\u001b[0m\n",
      "[jovian] Uploading colab notebook to Jovian...\u001b[0m\n",
      "[jovian] Capturing environment..\u001b[0m\n",
      "[jovian] Committed successfully! https://jovian.ml/hada-garcia/songs-analysis-final-project\u001b[0m\n"
     ]
    },
    {
     "data": {
      "application/vnd.google.colaboratory.intrinsic+json": {
       "type": "string"
      },
      "text/plain": [
       "'https://jovian.ml/hada-garcia/songs-analysis-final-project'"
      ]
     },
     "execution_count": 107,
     "metadata": {
      "tags": []
     },
     "output_type": "execute_result"
    }
   ],
   "source": [
    "# Save our progress\n",
    "jovian.commit(project=project)"
   ]
  },
  {
   "cell_type": "markdown",
   "metadata": {
    "id": "z3Q012UAB9g9"
   },
   "source": [
    "#### **Q4: To what genres belong the most pupular songs?**"
   ]
  },
  {
   "cell_type": "code",
   "execution_count": null,
   "metadata": {
    "colab": {
     "base_uri": "https://localhost:8080/",
     "height": 419
    },
    "executionInfo": {
     "elapsed": 604,
     "status": "ok",
     "timestamp": 1602253003477,
     "user": {
      "displayName": "Hada Garcia",
      "photoUrl": "https://lh3.googleusercontent.com/a-/AOh14Gi-BhTuTj1QIs2vQZScRxNHuO1tSPc58vtRT-c4VQ=s64",
      "userId": "17697916405456863555"
     },
     "user_tz": -120
    },
    "id": "ArDz3mH9B9g-",
    "outputId": "5303789f-d993-43d5-c1d5-77f0381d2641"
   },
   "outputs": [
    {
     "data": {
      "text/html": [
       "<div>\n",
       "<style scoped>\n",
       "    .dataframe tbody tr th:only-of-type {\n",
       "        vertical-align: middle;\n",
       "    }\n",
       "\n",
       "    .dataframe tbody tr th {\n",
       "        vertical-align: top;\n",
       "    }\n",
       "\n",
       "    .dataframe thead th {\n",
       "        text-align: right;\n",
       "    }\n",
       "</style>\n",
       "<table border=\"1\" class=\"dataframe\">\n",
       "  <thead>\n",
       "    <tr style=\"text-align: right;\">\n",
       "      <th></th>\n",
       "      <th>artists</th>\n",
       "      <th>popularity</th>\n",
       "      <th>name</th>\n",
       "      <th>id</th>\n",
       "    </tr>\n",
       "  </thead>\n",
       "  <tbody>\n",
       "    <tr>\n",
       "      <th>7054</th>\n",
       "      <td>Tame Impala</td>\n",
       "      <td>48</td>\n",
       "      <td>expectation</td>\n",
       "      <td>4m3GHOgCNZMv0we7H9j8Y8</td>\n",
       "    </tr>\n",
       "    <tr>\n",
       "      <th>7055</th>\n",
       "      <td>Bring Me The Horizon</td>\n",
       "      <td>50</td>\n",
       "      <td>it never ends</td>\n",
       "      <td>0ZxZsjMMyLgjRV1XLWlIaS</td>\n",
       "    </tr>\n",
       "    <tr>\n",
       "      <th>7056</th>\n",
       "      <td>Daft Punk</td>\n",
       "      <td>48</td>\n",
       "      <td>solar sailer</td>\n",
       "      <td>0Jc2SfIHv63JNsUZpunh54</td>\n",
       "    </tr>\n",
       "    <tr>\n",
       "      <th>7057</th>\n",
       "      <td>TobyMac</td>\n",
       "      <td>48</td>\n",
       "      <td>city on our knees</td>\n",
       "      <td>5QZunYrvUrJs3Mzrjl7fKV</td>\n",
       "    </tr>\n",
       "    <tr>\n",
       "      <th>7058</th>\n",
       "      <td>Kenny Chesney</td>\n",
       "      <td>47</td>\n",
       "      <td>reality</td>\n",
       "      <td>0X0zDB7RqpWOIwCHGr2Whu</td>\n",
       "    </tr>\n",
       "    <tr>\n",
       "      <th>...</th>\n",
       "      <td>...</td>\n",
       "      <td>...</td>\n",
       "      <td>...</td>\n",
       "      <td>...</td>\n",
       "    </tr>\n",
       "    <tr>\n",
       "      <th>169904</th>\n",
       "      <td>DripReport, Tyga</td>\n",
       "      <td>75</td>\n",
       "      <td>skechers (feat. tyga) - remix</td>\n",
       "      <td>4KppkflX7I3vJQk7urOJaS</td>\n",
       "    </tr>\n",
       "    <tr>\n",
       "      <th>169905</th>\n",
       "      <td>Leon Bridges, Terrace Martin</td>\n",
       "      <td>64</td>\n",
       "      <td>sweeter (feat. terrace martin)</td>\n",
       "      <td>1ehhGlTvjtHo2e4xJFB0SZ</td>\n",
       "    </tr>\n",
       "    <tr>\n",
       "      <th>169906</th>\n",
       "      <td>Kygo, Oh Wonder</td>\n",
       "      <td>70</td>\n",
       "      <td>how would i know</td>\n",
       "      <td>52eycxprLhK3lPcRLbQiVk</td>\n",
       "    </tr>\n",
       "    <tr>\n",
       "      <th>169907</th>\n",
       "      <td>Cash Cash, Andy Grammer</td>\n",
       "      <td>70</td>\n",
       "      <td>i found you</td>\n",
       "      <td>3wYOGJYD31sLRmBgCvWxa4</td>\n",
       "    </tr>\n",
       "    <tr>\n",
       "      <th>169908</th>\n",
       "      <td>Ingrid Andress</td>\n",
       "      <td>65</td>\n",
       "      <td>more hearts than mine</td>\n",
       "      <td>60RFlt48hm0l4Fu0JoccOl</td>\n",
       "    </tr>\n",
       "  </tbody>\n",
       "</table>\n",
       "<p>21656 rows × 4 columns</p>\n",
       "</div>"
      ],
      "text/plain": [
       "                             artists  ...                      id\n",
       "7054                     Tame Impala  ...  4m3GHOgCNZMv0we7H9j8Y8\n",
       "7055            Bring Me The Horizon  ...  0ZxZsjMMyLgjRV1XLWlIaS\n",
       "7056                       Daft Punk  ...  0Jc2SfIHv63JNsUZpunh54\n",
       "7057                         TobyMac  ...  5QZunYrvUrJs3Mzrjl7fKV\n",
       "7058                   Kenny Chesney  ...  0X0zDB7RqpWOIwCHGr2Whu\n",
       "...                              ...  ...                     ...\n",
       "169904              DripReport, Tyga  ...  4KppkflX7I3vJQk7urOJaS\n",
       "169905  Leon Bridges, Terrace Martin  ...  1ehhGlTvjtHo2e4xJFB0SZ\n",
       "169906               Kygo, Oh Wonder  ...  52eycxprLhK3lPcRLbQiVk\n",
       "169907       Cash Cash, Andy Grammer  ...  3wYOGJYD31sLRmBgCvWxa4\n",
       "169908                Ingrid Andress  ...  60RFlt48hm0l4Fu0JoccOl\n",
       "\n",
       "[21656 rows x 4 columns]"
      ]
     },
     "execution_count": 31,
     "metadata": {
      "tags": []
     },
     "output_type": "execute_result"
    }
   ],
   "source": [
    "# Since we'll perform some dataframe manipulations, it's better to make a copy, to keep the original safe\n",
    "songs_by_artist_cols = ['artists', 'popularity', 'name', 'id']\n",
    "songs_by_artist = data_songs_df.copy()[songs_by_artist_cols]\n",
    "songs_by_artist"
   ]
  },
  {
   "cell_type": "code",
   "execution_count": null,
   "metadata": {
    "id": "iYdsp8llQt_K"
   },
   "outputs": [],
   "source": [
    "# Read the dataset data_w_genres\n",
    "relevant_columns_q4 = ['artists', 'genres'] # We don't need all the columns, only these 2\n",
    "songs_by_genres = pd.read_csv('data_w_genres.csv')\n",
    "songs_by_genres = songs_by_genres[relevant_columns_q4]"
   ]
  },
  {
   "cell_type": "code",
   "execution_count": null,
   "metadata": {
    "colab": {
     "base_uri": "https://localhost:8080/",
     "height": 80
    },
    "executionInfo": {
     "elapsed": 630,
     "status": "ok",
     "timestamp": 1602271487322,
     "user": {
      "displayName": "Hada Garcia",
      "photoUrl": "https://lh3.googleusercontent.com/a-/AOh14Gi-BhTuTj1QIs2vQZScRxNHuO1tSPc58vtRT-c4VQ=s64",
      "userId": "17697916405456863555"
     },
     "user_tz": -120
    },
    "id": "glKsQen2SINX",
    "outputId": "415a4d36-c04c-4a52-884e-037fea394c51"
   },
   "outputs": [
    {
     "data": {
      "text/html": [
       "<div>\n",
       "<style scoped>\n",
       "    .dataframe tbody tr th:only-of-type {\n",
       "        vertical-align: middle;\n",
       "    }\n",
       "\n",
       "    .dataframe tbody tr th {\n",
       "        vertical-align: top;\n",
       "    }\n",
       "\n",
       "    .dataframe thead th {\n",
       "        text-align: right;\n",
       "    }\n",
       "</style>\n",
       "<table border=\"1\" class=\"dataframe\">\n",
       "  <thead>\n",
       "    <tr style=\"text-align: right;\">\n",
       "      <th></th>\n",
       "      <th>artists</th>\n",
       "      <th>genres</th>\n",
       "    </tr>\n",
       "  </thead>\n",
       "  <tbody>\n",
       "    <tr>\n",
       "      <th>15287</th>\n",
       "      <td>Maluma</td>\n",
       "      <td>['latin', 'reggaeton']</td>\n",
       "    </tr>\n",
       "  </tbody>\n",
       "</table>\n",
       "</div>"
      ],
      "text/plain": [
       "      artists                  genres\n",
       "15287  Maluma  ['latin', 'reggaeton']"
      ]
     },
     "execution_count": 130,
     "metadata": {
      "tags": []
     },
     "output_type": "execute_result"
    }
   ],
   "source": [
    "# Let's look after one known artist to verify the genres\n",
    "songs_by_genres[songs_by_genres.artists == 'Maluma']"
   ]
  },
  {
   "cell_type": "code",
   "execution_count": null,
   "metadata": {
    "id": "i6WnELqcTQGb"
   },
   "outputs": [],
   "source": [
    "# Now merge both datasets by 'artists' column, to know the most popular genres\n",
    "merged_songs = songs_by_artist.merge(songs_by_genres, on='artists')"
   ]
  },
  {
   "cell_type": "code",
   "execution_count": null,
   "metadata": {
    "colab": {
     "base_uri": "https://localhost:8080/",
     "height": 359
    },
    "executionInfo": {
     "elapsed": 617,
     "status": "ok",
     "timestamp": 1602257367875,
     "user": {
      "displayName": "Hada Garcia",
      "photoUrl": "https://lh3.googleusercontent.com/a-/AOh14Gi-BhTuTj1QIs2vQZScRxNHuO1tSPc58vtRT-c4VQ=s64",
      "userId": "17697916405456863555"
     },
     "user_tz": -120
    },
    "id": "dLv58tf6x5Nq",
    "outputId": "e783bdf0-fcfc-4d47-f767-a2e03ec79d1a"
   },
   "outputs": [
    {
     "data": {
      "text/html": [
       "<div>\n",
       "<style scoped>\n",
       "    .dataframe tbody tr th:only-of-type {\n",
       "        vertical-align: middle;\n",
       "    }\n",
       "\n",
       "    .dataframe tbody tr th {\n",
       "        vertical-align: top;\n",
       "    }\n",
       "\n",
       "    .dataframe thead th {\n",
       "        text-align: right;\n",
       "    }\n",
       "</style>\n",
       "<table border=\"1\" class=\"dataframe\">\n",
       "  <thead>\n",
       "    <tr style=\"text-align: right;\">\n",
       "      <th></th>\n",
       "      <th>artists</th>\n",
       "      <th>popularity</th>\n",
       "      <th>name</th>\n",
       "      <th>id</th>\n",
       "      <th>genres</th>\n",
       "    </tr>\n",
       "  </thead>\n",
       "  <tbody>\n",
       "    <tr>\n",
       "      <th>1857</th>\n",
       "      <td>The Weeknd</td>\n",
       "      <td>100</td>\n",
       "      <td>blinding lights</td>\n",
       "      <td>0VjIjW4GlUZAMYd2vXMi3b</td>\n",
       "      <td>['canadian contemporary r&amp;b', 'canadian pop', ...</td>\n",
       "    </tr>\n",
       "    <tr>\n",
       "      <th>793</th>\n",
       "      <td>Drake</td>\n",
       "      <td>95</td>\n",
       "      <td>toosie slide</td>\n",
       "      <td>127QTOFJsJQp5LbJbu3A1y</td>\n",
       "      <td>['canadian hip hop', 'canadian pop', 'hip hop'...</td>\n",
       "    </tr>\n",
       "    <tr>\n",
       "      <th>6329</th>\n",
       "      <td>Roddy Ricch</td>\n",
       "      <td>95</td>\n",
       "      <td>the box</td>\n",
       "      <td>0nbXyq5TXYPCO7pr3N8S4I</td>\n",
       "      <td>['melodic rap']</td>\n",
       "    </tr>\n",
       "    <tr>\n",
       "      <th>14954</th>\n",
       "      <td>6ix9ine</td>\n",
       "      <td>94</td>\n",
       "      <td>gooba</td>\n",
       "      <td>4NhDYoQTYCdWHTvlbGVgwo</td>\n",
       "      <td>['emo rap']</td>\n",
       "    </tr>\n",
       "    <tr>\n",
       "      <th>14944</th>\n",
       "      <td>Tones And I</td>\n",
       "      <td>94</td>\n",
       "      <td>dance monkey</td>\n",
       "      <td>2XU0oxnq2qxCpomAAuJY8K</td>\n",
       "      <td>['australian pop']</td>\n",
       "    </tr>\n",
       "    <tr>\n",
       "      <th>6079</th>\n",
       "      <td>Doja Cat</td>\n",
       "      <td>93</td>\n",
       "      <td>say so</td>\n",
       "      <td>3Dv1eDb0MEgF93GpLXlucZ</td>\n",
       "      <td>['la indie', 'pop']</td>\n",
       "    </tr>\n",
       "    <tr>\n",
       "      <th>6743</th>\n",
       "      <td>Dua Lipa</td>\n",
       "      <td>93</td>\n",
       "      <td>don't start now</td>\n",
       "      <td>6WrI0LAC5M1Rw2MnX2ZvEg</td>\n",
       "      <td>['dance pop', 'pop', 'uk pop']</td>\n",
       "    </tr>\n",
       "    <tr>\n",
       "      <th>6303</th>\n",
       "      <td>Surfaces</td>\n",
       "      <td>93</td>\n",
       "      <td>sunday best</td>\n",
       "      <td>1Cv1YLb4q0RzL6pybtaMLo</td>\n",
       "      <td>['bedroom soul', 'pop']</td>\n",
       "    </tr>\n",
       "    <tr>\n",
       "      <th>12465</th>\n",
       "      <td>Jack Harlow</td>\n",
       "      <td>92</td>\n",
       "      <td>whats poppin</td>\n",
       "      <td>1jaTQ3nqY3oAAYyCTbIvnM</td>\n",
       "      <td>['deep underground hip hop', 'pop rap', 'rap',...</td>\n",
       "    </tr>\n",
       "    <tr>\n",
       "      <th>4944</th>\n",
       "      <td>Arizona Zervas</td>\n",
       "      <td>92</td>\n",
       "      <td>roxanne</td>\n",
       "      <td>696DnlkuDOXcMAnKlTgXXK</td>\n",
       "      <td>['pop rap']</td>\n",
       "    </tr>\n",
       "  </tbody>\n",
       "</table>\n",
       "</div>"
      ],
      "text/plain": [
       "              artists  ...                                             genres\n",
       "1857       The Weeknd  ...  ['canadian contemporary r&b', 'canadian pop', ...\n",
       "793             Drake  ...  ['canadian hip hop', 'canadian pop', 'hip hop'...\n",
       "6329      Roddy Ricch  ...                                    ['melodic rap']\n",
       "14954         6ix9ine  ...                                        ['emo rap']\n",
       "14944     Tones And I  ...                                 ['australian pop']\n",
       "6079         Doja Cat  ...                                ['la indie', 'pop']\n",
       "6743         Dua Lipa  ...                     ['dance pop', 'pop', 'uk pop']\n",
       "6303         Surfaces  ...                            ['bedroom soul', 'pop']\n",
       "12465     Jack Harlow  ...  ['deep underground hip hop', 'pop rap', 'rap',...\n",
       "4944   Arizona Zervas  ...                                        ['pop rap']\n",
       "\n",
       "[10 rows x 5 columns]"
      ]
     },
     "execution_count": 86,
     "metadata": {
      "tags": []
     },
     "output_type": "execute_result"
    }
   ],
   "source": [
    "# merged_songs.info()\n",
    "merged_songs_cleaned = merged_songs[merged_songs.genres != '[]']\n",
    "merged_songs_cleaned.sort_values('popularity', ascending=False).head(10)"
   ]
  },
  {
   "cell_type": "markdown",
   "metadata": {
    "id": "5kQZ5CM-CvSk"
   },
   "source": [
    "##### Doing some calculations over the genres, we can find out which are the most common genres.\n",
    "\n"
   ]
  },
  {
   "cell_type": "code",
   "execution_count": null,
   "metadata": {
    "id": "PqaRY01kAipB"
   },
   "outputs": [],
   "source": [
    "genres_series = merged_songs_cleaned.genres.apply(lambda s: str(s).replace(\"'\", '').strip('[]'))\n",
    "genres_series"
   ]
  },
  {
   "cell_type": "code",
   "execution_count": null,
   "metadata": {
    "id": "oaUCpNhyBFWs"
   },
   "outputs": [],
   "source": [
    "def split_multicolumn(col_series):\n",
    "    result_df = col_series.to_frame()\n",
    "    options = []\n",
    "    # Iterate over the column\n",
    "    for idx, value  in col_series[col_series.notnull()].iteritems():\n",
    "        # Break each value into list of options\n",
    "        for option in value.split(','):\n",
    "            # Add the option as a column to result\n",
    "            if not option in result_df.columns:\n",
    "                options.append(option)\n",
    "                result_df[option] = False\n",
    "            # Mark the value in the option column as True\n",
    "            result_df.at[idx, option] = True\n",
    "    return result_df[options]\n",
    "\n",
    "# Method borrowed from this notebook, with authorization given.\n",
    "https://jovian.ml/aakashns/python-eda-stackoverflow-survey\n",
    "\n",
    "# It takes a Series and returns a Dataframe where the values are boolean"
   ]
  },
  {
   "cell_type": "code",
   "execution_count": null,
   "metadata": {
    "id": "wL01O1H7BJbT"
   },
   "outputs": [],
   "source": [
    "genres_df = split_multicolumn(genres_series)"
   ]
  },
  {
   "cell_type": "code",
   "execution_count": null,
   "metadata": {
    "colab": {
     "base_uri": "https://localhost:8080/",
     "height": 287
    },
    "executionInfo": {
     "elapsed": 673,
     "status": "ok",
     "timestamp": 1602258837080,
     "user": {
      "displayName": "Hada Garcia",
      "photoUrl": "https://lh3.googleusercontent.com/a-/AOh14Gi-BhTuTj1QIs2vQZScRxNHuO1tSPc58vtRT-c4VQ=s64",
      "userId": "17697916405456863555"
     },
     "user_tz": -120
    },
    "id": "bnwzhdPCBb-3",
    "outputId": "78ada8c2-f318-47e6-d3b5-16d7d3392818"
   },
   "outputs": [
    {
     "data": {
      "text/html": [
       "<div>\n",
       "<style scoped>\n",
       "    .dataframe tbody tr th:only-of-type {\n",
       "        vertical-align: middle;\n",
       "    }\n",
       "\n",
       "    .dataframe tbody tr th {\n",
       "        vertical-align: top;\n",
       "    }\n",
       "\n",
       "    .dataframe thead th {\n",
       "        text-align: right;\n",
       "    }\n",
       "</style>\n",
       "<table border=\"1\" class=\"dataframe\">\n",
       "  <thead>\n",
       "    <tr style=\"text-align: right;\">\n",
       "      <th></th>\n",
       "      <th>australian psych</th>\n",
       "      <th>neo-psychedelic</th>\n",
       "      <th>melodic metalcore</th>\n",
       "      <th>metalcore</th>\n",
       "      <th>uk metalcore</th>\n",
       "      <th>electro</th>\n",
       "      <th>filter house</th>\n",
       "      <th>ccm</th>\n",
       "      <th>christian alternative rock</th>\n",
       "      <th>christian hip hop</th>\n",
       "      <th>christian music</th>\n",
       "      <th>worship</th>\n",
       "      <th>contemporary country</th>\n",
       "      <th>country</th>\n",
       "      <th>country road</th>\n",
       "      <th>christian indie</th>\n",
       "      <th>tecnobanda</th>\n",
       "      <th>tejano</th>\n",
       "      <th>comic</th>\n",
       "      <th>indie pop rap</th>\n",
       "      <th>pop rap</th>\n",
       "      <th>banda</th>\n",
       "      <th>duranguense</th>\n",
       "      <th>grupera</th>\n",
       "      <th>norteno</th>\n",
       "      <th>regional mexican</th>\n",
       "      <th>alternative metal</th>\n",
       "      <th>pixie</th>\n",
       "      <th>pop punk</th>\n",
       "      <th>screamo</th>\n",
       "      <th>oklahoma country</th>\n",
       "      <th>christian rock</th>\n",
       "      <th>nu metal</th>\n",
       "      <th>post-grunge</th>\n",
       "      <th>rap rock</th>\n",
       "      <th>comedy</th>\n",
       "      <th>comic</th>\n",
       "      <th>bluegrass</th>\n",
       "      <th>neo-traditional bluegrass</th>\n",
       "      <th>new americana</th>\n",
       "      <th>...</th>\n",
       "      <th>dutch hip hop</th>\n",
       "      <th>pakistani hip hop</th>\n",
       "      <th>romanian pop</th>\n",
       "      <th>finnish edm</th>\n",
       "      <th>synth funk</th>\n",
       "      <th>belgian edm</th>\n",
       "      <th>post-hardcore</th>\n",
       "      <th>kingston on indie</th>\n",
       "      <th>nu-cumbia</th>\n",
       "      <th>uk alternative hip hop</th>\n",
       "      <th>sertanejo universitario</th>\n",
       "      <th>theme</th>\n",
       "      <th>nu disco</th>\n",
       "      <th>italian disco</th>\n",
       "      <th>\"childrens folk\"</th>\n",
       "      <th>kids dance party</th>\n",
       "      <th>hands up</th>\n",
       "      <th>italo dance</th>\n",
       "      <th>lancaster pa indie</th>\n",
       "      <th>kirtan</th>\n",
       "      <th>christian indie</th>\n",
       "      <th>wonky</th>\n",
       "      <th>geek rock</th>\n",
       "      <th>zolo</th>\n",
       "      <th>australian metal</th>\n",
       "      <th>k-pop boy group</th>\n",
       "      <th>j-division</th>\n",
       "      <th>charlotte nc indie</th>\n",
       "      <th>pixie</th>\n",
       "      <th>connecticut hardcore</th>\n",
       "      <th>hardcore</th>\n",
       "      <th>kawaii future bass</th>\n",
       "      <th>hands up</th>\n",
       "      <th>nightcore</th>\n",
       "      <th>irish hip hop</th>\n",
       "      <th>london rap</th>\n",
       "      <th>swedish gangsta rap</th>\n",
       "      <th>dutch hip hop</th>\n",
       "      <th>dutch trap pop</th>\n",
       "      <th>ritmo kombina</th>\n",
       "    </tr>\n",
       "  </thead>\n",
       "  <tbody>\n",
       "    <tr>\n",
       "      <th>2669</th>\n",
       "      <td>False</td>\n",
       "      <td>False</td>\n",
       "      <td>False</td>\n",
       "      <td>False</td>\n",
       "      <td>False</td>\n",
       "      <td>False</td>\n",
       "      <td>False</td>\n",
       "      <td>False</td>\n",
       "      <td>False</td>\n",
       "      <td>False</td>\n",
       "      <td>False</td>\n",
       "      <td>False</td>\n",
       "      <td>False</td>\n",
       "      <td>False</td>\n",
       "      <td>False</td>\n",
       "      <td>False</td>\n",
       "      <td>False</td>\n",
       "      <td>False</td>\n",
       "      <td>False</td>\n",
       "      <td>False</td>\n",
       "      <td>False</td>\n",
       "      <td>False</td>\n",
       "      <td>False</td>\n",
       "      <td>False</td>\n",
       "      <td>False</td>\n",
       "      <td>False</td>\n",
       "      <td>False</td>\n",
       "      <td>False</td>\n",
       "      <td>False</td>\n",
       "      <td>False</td>\n",
       "      <td>False</td>\n",
       "      <td>False</td>\n",
       "      <td>False</td>\n",
       "      <td>False</td>\n",
       "      <td>False</td>\n",
       "      <td>False</td>\n",
       "      <td>False</td>\n",
       "      <td>False</td>\n",
       "      <td>False</td>\n",
       "      <td>False</td>\n",
       "      <td>...</td>\n",
       "      <td>False</td>\n",
       "      <td>False</td>\n",
       "      <td>False</td>\n",
       "      <td>False</td>\n",
       "      <td>False</td>\n",
       "      <td>False</td>\n",
       "      <td>False</td>\n",
       "      <td>False</td>\n",
       "      <td>False</td>\n",
       "      <td>False</td>\n",
       "      <td>False</td>\n",
       "      <td>False</td>\n",
       "      <td>False</td>\n",
       "      <td>False</td>\n",
       "      <td>False</td>\n",
       "      <td>False</td>\n",
       "      <td>False</td>\n",
       "      <td>False</td>\n",
       "      <td>False</td>\n",
       "      <td>False</td>\n",
       "      <td>False</td>\n",
       "      <td>False</td>\n",
       "      <td>False</td>\n",
       "      <td>False</td>\n",
       "      <td>False</td>\n",
       "      <td>False</td>\n",
       "      <td>False</td>\n",
       "      <td>False</td>\n",
       "      <td>False</td>\n",
       "      <td>False</td>\n",
       "      <td>False</td>\n",
       "      <td>False</td>\n",
       "      <td>False</td>\n",
       "      <td>False</td>\n",
       "      <td>False</td>\n",
       "      <td>False</td>\n",
       "      <td>False</td>\n",
       "      <td>False</td>\n",
       "      <td>False</td>\n",
       "      <td>False</td>\n",
       "    </tr>\n",
       "    <tr>\n",
       "      <th>9412</th>\n",
       "      <td>False</td>\n",
       "      <td>False</td>\n",
       "      <td>False</td>\n",
       "      <td>False</td>\n",
       "      <td>False</td>\n",
       "      <td>False</td>\n",
       "      <td>False</td>\n",
       "      <td>False</td>\n",
       "      <td>False</td>\n",
       "      <td>False</td>\n",
       "      <td>False</td>\n",
       "      <td>False</td>\n",
       "      <td>False</td>\n",
       "      <td>False</td>\n",
       "      <td>False</td>\n",
       "      <td>False</td>\n",
       "      <td>False</td>\n",
       "      <td>False</td>\n",
       "      <td>False</td>\n",
       "      <td>False</td>\n",
       "      <td>False</td>\n",
       "      <td>False</td>\n",
       "      <td>False</td>\n",
       "      <td>False</td>\n",
       "      <td>False</td>\n",
       "      <td>False</td>\n",
       "      <td>False</td>\n",
       "      <td>False</td>\n",
       "      <td>False</td>\n",
       "      <td>False</td>\n",
       "      <td>False</td>\n",
       "      <td>False</td>\n",
       "      <td>False</td>\n",
       "      <td>False</td>\n",
       "      <td>False</td>\n",
       "      <td>False</td>\n",
       "      <td>False</td>\n",
       "      <td>False</td>\n",
       "      <td>False</td>\n",
       "      <td>False</td>\n",
       "      <td>...</td>\n",
       "      <td>False</td>\n",
       "      <td>False</td>\n",
       "      <td>False</td>\n",
       "      <td>False</td>\n",
       "      <td>False</td>\n",
       "      <td>False</td>\n",
       "      <td>False</td>\n",
       "      <td>False</td>\n",
       "      <td>False</td>\n",
       "      <td>False</td>\n",
       "      <td>False</td>\n",
       "      <td>False</td>\n",
       "      <td>False</td>\n",
       "      <td>False</td>\n",
       "      <td>False</td>\n",
       "      <td>False</td>\n",
       "      <td>False</td>\n",
       "      <td>False</td>\n",
       "      <td>False</td>\n",
       "      <td>False</td>\n",
       "      <td>False</td>\n",
       "      <td>False</td>\n",
       "      <td>False</td>\n",
       "      <td>False</td>\n",
       "      <td>False</td>\n",
       "      <td>False</td>\n",
       "      <td>False</td>\n",
       "      <td>False</td>\n",
       "      <td>False</td>\n",
       "      <td>False</td>\n",
       "      <td>False</td>\n",
       "      <td>False</td>\n",
       "      <td>False</td>\n",
       "      <td>False</td>\n",
       "      <td>False</td>\n",
       "      <td>False</td>\n",
       "      <td>False</td>\n",
       "      <td>False</td>\n",
       "      <td>False</td>\n",
       "      <td>False</td>\n",
       "    </tr>\n",
       "    <tr>\n",
       "      <th>14839</th>\n",
       "      <td>False</td>\n",
       "      <td>False</td>\n",
       "      <td>False</td>\n",
       "      <td>False</td>\n",
       "      <td>False</td>\n",
       "      <td>False</td>\n",
       "      <td>False</td>\n",
       "      <td>False</td>\n",
       "      <td>False</td>\n",
       "      <td>False</td>\n",
       "      <td>False</td>\n",
       "      <td>False</td>\n",
       "      <td>False</td>\n",
       "      <td>False</td>\n",
       "      <td>False</td>\n",
       "      <td>False</td>\n",
       "      <td>False</td>\n",
       "      <td>False</td>\n",
       "      <td>False</td>\n",
       "      <td>False</td>\n",
       "      <td>False</td>\n",
       "      <td>False</td>\n",
       "      <td>False</td>\n",
       "      <td>False</td>\n",
       "      <td>False</td>\n",
       "      <td>False</td>\n",
       "      <td>False</td>\n",
       "      <td>False</td>\n",
       "      <td>False</td>\n",
       "      <td>False</td>\n",
       "      <td>False</td>\n",
       "      <td>False</td>\n",
       "      <td>False</td>\n",
       "      <td>False</td>\n",
       "      <td>False</td>\n",
       "      <td>False</td>\n",
       "      <td>False</td>\n",
       "      <td>False</td>\n",
       "      <td>False</td>\n",
       "      <td>False</td>\n",
       "      <td>...</td>\n",
       "      <td>False</td>\n",
       "      <td>False</td>\n",
       "      <td>False</td>\n",
       "      <td>False</td>\n",
       "      <td>False</td>\n",
       "      <td>False</td>\n",
       "      <td>False</td>\n",
       "      <td>False</td>\n",
       "      <td>False</td>\n",
       "      <td>False</td>\n",
       "      <td>False</td>\n",
       "      <td>False</td>\n",
       "      <td>False</td>\n",
       "      <td>False</td>\n",
       "      <td>False</td>\n",
       "      <td>False</td>\n",
       "      <td>False</td>\n",
       "      <td>False</td>\n",
       "      <td>False</td>\n",
       "      <td>False</td>\n",
       "      <td>False</td>\n",
       "      <td>False</td>\n",
       "      <td>False</td>\n",
       "      <td>False</td>\n",
       "      <td>False</td>\n",
       "      <td>False</td>\n",
       "      <td>False</td>\n",
       "      <td>False</td>\n",
       "      <td>False</td>\n",
       "      <td>False</td>\n",
       "      <td>False</td>\n",
       "      <td>False</td>\n",
       "      <td>False</td>\n",
       "      <td>False</td>\n",
       "      <td>False</td>\n",
       "      <td>False</td>\n",
       "      <td>False</td>\n",
       "      <td>False</td>\n",
       "      <td>False</td>\n",
       "      <td>False</td>\n",
       "    </tr>\n",
       "    <tr>\n",
       "      <th>12728</th>\n",
       "      <td>False</td>\n",
       "      <td>False</td>\n",
       "      <td>False</td>\n",
       "      <td>False</td>\n",
       "      <td>False</td>\n",
       "      <td>False</td>\n",
       "      <td>False</td>\n",
       "      <td>False</td>\n",
       "      <td>False</td>\n",
       "      <td>False</td>\n",
       "      <td>False</td>\n",
       "      <td>False</td>\n",
       "      <td>False</td>\n",
       "      <td>False</td>\n",
       "      <td>False</td>\n",
       "      <td>False</td>\n",
       "      <td>False</td>\n",
       "      <td>False</td>\n",
       "      <td>False</td>\n",
       "      <td>False</td>\n",
       "      <td>False</td>\n",
       "      <td>False</td>\n",
       "      <td>False</td>\n",
       "      <td>False</td>\n",
       "      <td>False</td>\n",
       "      <td>False</td>\n",
       "      <td>False</td>\n",
       "      <td>False</td>\n",
       "      <td>False</td>\n",
       "      <td>False</td>\n",
       "      <td>False</td>\n",
       "      <td>False</td>\n",
       "      <td>False</td>\n",
       "      <td>False</td>\n",
       "      <td>False</td>\n",
       "      <td>False</td>\n",
       "      <td>False</td>\n",
       "      <td>False</td>\n",
       "      <td>False</td>\n",
       "      <td>False</td>\n",
       "      <td>...</td>\n",
       "      <td>False</td>\n",
       "      <td>False</td>\n",
       "      <td>False</td>\n",
       "      <td>False</td>\n",
       "      <td>False</td>\n",
       "      <td>False</td>\n",
       "      <td>False</td>\n",
       "      <td>False</td>\n",
       "      <td>False</td>\n",
       "      <td>False</td>\n",
       "      <td>False</td>\n",
       "      <td>False</td>\n",
       "      <td>False</td>\n",
       "      <td>False</td>\n",
       "      <td>False</td>\n",
       "      <td>False</td>\n",
       "      <td>False</td>\n",
       "      <td>False</td>\n",
       "      <td>False</td>\n",
       "      <td>False</td>\n",
       "      <td>False</td>\n",
       "      <td>False</td>\n",
       "      <td>False</td>\n",
       "      <td>False</td>\n",
       "      <td>False</td>\n",
       "      <td>False</td>\n",
       "      <td>False</td>\n",
       "      <td>False</td>\n",
       "      <td>False</td>\n",
       "      <td>False</td>\n",
       "      <td>False</td>\n",
       "      <td>False</td>\n",
       "      <td>False</td>\n",
       "      <td>False</td>\n",
       "      <td>False</td>\n",
       "      <td>False</td>\n",
       "      <td>False</td>\n",
       "      <td>False</td>\n",
       "      <td>False</td>\n",
       "      <td>False</td>\n",
       "    </tr>\n",
       "    <tr>\n",
       "      <th>15239</th>\n",
       "      <td>False</td>\n",
       "      <td>False</td>\n",
       "      <td>False</td>\n",
       "      <td>False</td>\n",
       "      <td>False</td>\n",
       "      <td>False</td>\n",
       "      <td>False</td>\n",
       "      <td>False</td>\n",
       "      <td>False</td>\n",
       "      <td>False</td>\n",
       "      <td>False</td>\n",
       "      <td>False</td>\n",
       "      <td>False</td>\n",
       "      <td>False</td>\n",
       "      <td>False</td>\n",
       "      <td>False</td>\n",
       "      <td>False</td>\n",
       "      <td>False</td>\n",
       "      <td>False</td>\n",
       "      <td>False</td>\n",
       "      <td>False</td>\n",
       "      <td>False</td>\n",
       "      <td>False</td>\n",
       "      <td>False</td>\n",
       "      <td>False</td>\n",
       "      <td>False</td>\n",
       "      <td>False</td>\n",
       "      <td>False</td>\n",
       "      <td>False</td>\n",
       "      <td>False</td>\n",
       "      <td>False</td>\n",
       "      <td>False</td>\n",
       "      <td>False</td>\n",
       "      <td>False</td>\n",
       "      <td>False</td>\n",
       "      <td>False</td>\n",
       "      <td>False</td>\n",
       "      <td>False</td>\n",
       "      <td>False</td>\n",
       "      <td>False</td>\n",
       "      <td>...</td>\n",
       "      <td>False</td>\n",
       "      <td>False</td>\n",
       "      <td>False</td>\n",
       "      <td>False</td>\n",
       "      <td>False</td>\n",
       "      <td>False</td>\n",
       "      <td>False</td>\n",
       "      <td>False</td>\n",
       "      <td>False</td>\n",
       "      <td>False</td>\n",
       "      <td>False</td>\n",
       "      <td>False</td>\n",
       "      <td>False</td>\n",
       "      <td>False</td>\n",
       "      <td>False</td>\n",
       "      <td>False</td>\n",
       "      <td>False</td>\n",
       "      <td>False</td>\n",
       "      <td>False</td>\n",
       "      <td>False</td>\n",
       "      <td>False</td>\n",
       "      <td>False</td>\n",
       "      <td>False</td>\n",
       "      <td>False</td>\n",
       "      <td>False</td>\n",
       "      <td>False</td>\n",
       "      <td>False</td>\n",
       "      <td>False</td>\n",
       "      <td>False</td>\n",
       "      <td>False</td>\n",
       "      <td>False</td>\n",
       "      <td>False</td>\n",
       "      <td>False</td>\n",
       "      <td>False</td>\n",
       "      <td>False</td>\n",
       "      <td>False</td>\n",
       "      <td>False</td>\n",
       "      <td>False</td>\n",
       "      <td>False</td>\n",
       "      <td>False</td>\n",
       "    </tr>\n",
       "  </tbody>\n",
       "</table>\n",
       "<p>5 rows × 1700 columns</p>\n",
       "</div>"
      ],
      "text/plain": [
       "       australian psych   neo-psychedelic  ...   dutch trap pop   ritmo kombina\n",
       "2669              False             False  ...            False           False\n",
       "9412              False             False  ...            False           False\n",
       "14839             False             False  ...            False           False\n",
       "12728             False             False  ...            False           False\n",
       "15239             False             False  ...            False           False\n",
       "\n",
       "[5 rows x 1700 columns]"
      ]
     },
     "execution_count": 98,
     "metadata": {
      "tags": []
     },
     "output_type": "execute_result"
    }
   ],
   "source": [
    "# Sample\n",
    "genres_df.sample(5)\n",
    "\n",
    "# There are 1700 columns, meaning we have 1700 different genres"
   ]
  },
  {
   "cell_type": "markdown",
   "metadata": {
    "id": "6kfIrd_SE3EY"
   },
   "source": [
    "##### Let's display the top 10, to compare againsts the top 10 more popular songs"
   ]
  },
  {
   "cell_type": "code",
   "execution_count": null,
   "metadata": {
    "colab": {
     "base_uri": "https://localhost:8080/",
     "height": 323
    },
    "executionInfo": {
     "elapsed": 865,
     "status": "ok",
     "timestamp": 1602259314822,
     "user": {
      "displayName": "Hada Garcia",
      "photoUrl": "https://lh3.googleusercontent.com/a-/AOh14Gi-BhTuTj1QIs2vQZScRxNHuO1tSPc58vtRT-c4VQ=s64",
      "userId": "17697916405456863555"
     },
     "user_tz": -120
    },
    "id": "KWPYknJxBz9G",
    "outputId": "3f11924d-cf44-419a-cb1e-0f18dd805627"
   },
   "outputs": [
    {
     "data": {
      "image/png": "[encoded data removed]",
      "text/plain": [
       "<Figure size 648x360 with 1 Axes>"
      ]
     },
     "metadata": {
      "needs_background": "light",
      "tags": []
     },
     "output_type": "display_data"
    }
   ],
   "source": [
    "genres_totals_top_10 = genres_df.sum().sort_values(ascending=False).head(10)\n",
    "sns.barplot(x=genres_totals_top_10, y=genres_totals_top_10.index);"
   ]
  },
  {
   "cell_type": "markdown",
   "metadata": {
    "id": "LqLr8oje_keg"
   },
   "source": [
    "*Hip hop and rap seem to be the mosts popular genres the last 10 years. Here would be interesting for future work, to identify the most popular genres by country, I'm pretty sure the results would be very different ;)*"
   ]
  },
  {
   "cell_type": "markdown",
   "metadata": {
    "id": "FwFV9ObxB9g3"
   },
   "source": [
    "#### **Q5: What is the sentiment of the most popular songs?**\n",
    "\n",
    "> This is a bonus question, since the data mentioned showed some interesting results about the explicit content. It has been increasing over the years and I would like to know if the sentiment analysis of the 10 most popular songs, using google cloud analysis API.\n",
    "\n",
    "If you wonder why only the 10 most popular songs? The reason is, I would like to go over the lyrics, and this means a lot of unit requests (each unit request is 1,000 characters) to the google cloud Natural Language API and it has some costs, which are probably not too high, but we have to consider we are analyzing a dataset of 21656 entries.\n",
    "\n",
    "Even if we analyze only the song's title (which is not the best option), it could be a significant cost.\n",
    "\n",
    "* Here is the link to the natural language prices:\n",
    "https://cloud.google.com/natural-language/pricing\n",
    "\n",
    "* If you are interested on how to use this API, here is a jupyter notebook I wrote explaining how to use it, as well as some examples.\n",
    "https://jovian.ml/hada-garcia/sentiment-analysis\n",
    "\n"
   ]
  },
  {
   "cell_type": "code",
   "execution_count": 4,
   "metadata": {
    "colab": {
     "base_uri": "https://localhost:8080/",
     "height": 699
    },
    "executionInfo": {
     "elapsed": 1284,
     "status": "ok",
     "timestamp": 1602423377017,
     "user": {
      "displayName": "Hada Garcia",
      "photoUrl": "https://lh3.googleusercontent.com/a-/AOh14Gi-BhTuTj1QIs2vQZScRxNHuO1tSPc58vtRT-c4VQ=s64",
      "userId": "17697916405456863555"
     },
     "user_tz": -120
    },
    "id": "cFyybqZX3HXT",
    "outputId": "42e6be64-1360-43f1-e303-0e933f7a66f1"
   },
   "outputs": [
    {
     "data": {
      "text/html": [
       "<div>\n",
       "<style scoped>\n",
       "    .dataframe tbody tr th:only-of-type {\n",
       "        vertical-align: middle;\n",
       "    }\n",
       "\n",
       "    .dataframe tbody tr th {\n",
       "        vertical-align: top;\n",
       "    }\n",
       "\n",
       "    .dataframe thead th {\n",
       "        text-align: right;\n",
       "    }\n",
       "</style>\n",
       "<table border=\"1\" class=\"dataframe\">\n",
       "  <thead>\n",
       "    <tr style=\"text-align: right;\">\n",
       "      <th></th>\n",
       "      <th>id</th>\n",
       "      <th>name</th>\n",
       "      <th>popularity</th>\n",
       "      <th>release_date</th>\n",
       "      <th>year</th>\n",
       "      <th>artists</th>\n",
       "      <th>danceability</th>\n",
       "      <th>energy</th>\n",
       "      <th>explicit</th>\n",
       "      <th>speechiness</th>\n",
       "      <th>duration_mins</th>\n",
       "      <th>release_month</th>\n",
       "      <th>lyrics</th>\n",
       "      <th>sentiment</th>\n",
       "    </tr>\n",
       "  </thead>\n",
       "  <tbody>\n",
       "    <tr>\n",
       "      <th>0</th>\n",
       "      <td>0VjIjW4GlUZAMYd2vXMi3b</td>\n",
       "      <td>blinding lights</td>\n",
       "      <td>100</td>\n",
       "      <td>2020-03-20</td>\n",
       "      <td>2020</td>\n",
       "      <td>The Weeknd</td>\n",
       "      <td>0.514</td>\n",
       "      <td>0.730</td>\n",
       "      <td>0</td>\n",
       "      <td>0.0598</td>\n",
       "      <td>3.33</td>\n",
       "      <td>3</td>\n",
       "      <td>I been on my own for long enough. Maybe you ca...</td>\n",
       "      <td>1</td>\n",
       "    </tr>\n",
       "    <tr>\n",
       "      <th>1</th>\n",
       "      <td>7ytR5pFWmSjzHJIeQkgog4</td>\n",
       "      <td>rockstar (feat. roddy ricch)</td>\n",
       "      <td>99</td>\n",
       "      <td>2020-04-17</td>\n",
       "      <td>2020</td>\n",
       "      <td>DaBaby, Roddy Ricch</td>\n",
       "      <td>0.746</td>\n",
       "      <td>0.690</td>\n",
       "      <td>1</td>\n",
       "      <td>0.1640</td>\n",
       "      <td>3.03</td>\n",
       "      <td>4</td>\n",
       "      <td>I pull up like. How you pull up Baby? How you ...</td>\n",
       "      <td>2</td>\n",
       "    </tr>\n",
       "    <tr>\n",
       "      <th>2</th>\n",
       "      <td>7eJMfftS33KTjuF7lTsMCx</td>\n",
       "      <td>death bed (coffee for your head) (feat. beabad...</td>\n",
       "      <td>97</td>\n",
       "      <td>2020-02-08</td>\n",
       "      <td>2020</td>\n",
       "      <td>Powfu, beabadoobee</td>\n",
       "      <td>0.726</td>\n",
       "      <td>0.431</td>\n",
       "      <td>0</td>\n",
       "      <td>0.1350</td>\n",
       "      <td>2.89</td>\n",
       "      <td>2</td>\n",
       "      <td>Don't stay awake for too long. Don't go to bed...</td>\n",
       "      <td>3</td>\n",
       "    </tr>\n",
       "    <tr>\n",
       "      <th>3</th>\n",
       "      <td>39Yp9wwQiSRIDOvrVg7mbk</td>\n",
       "      <td>the scotts</td>\n",
       "      <td>96</td>\n",
       "      <td>2020-04-24</td>\n",
       "      <td>2020</td>\n",
       "      <td>THE SCOTTS, Travis Scott, Kid Cudi</td>\n",
       "      <td>0.716</td>\n",
       "      <td>0.537</td>\n",
       "      <td>1</td>\n",
       "      <td>0.0514</td>\n",
       "      <td>2.77</td>\n",
       "      <td>4</td>\n",
       "      <td>Let's go. We see the hype outside. Right from ...</td>\n",
       "      <td>3</td>\n",
       "    </tr>\n",
       "    <tr>\n",
       "      <th>4</th>\n",
       "      <td>62aP9fBQKYKxi7PDXwcUAS</td>\n",
       "      <td>ily (i love you baby) (feat. emilee)</td>\n",
       "      <td>95</td>\n",
       "      <td>2019-11-26</td>\n",
       "      <td>2019</td>\n",
       "      <td>Surf Mesa, Emilee</td>\n",
       "      <td>0.674</td>\n",
       "      <td>0.774</td>\n",
       "      <td>0</td>\n",
       "      <td>0.0892</td>\n",
       "      <td>2.94</td>\n",
       "      <td>11</td>\n",
       "      <td>I love you baby. And if it's quite all right I...</td>\n",
       "      <td>5</td>\n",
       "    </tr>\n",
       "    <tr>\n",
       "      <th>5</th>\n",
       "      <td>0nbXyq5TXYPCO7pr3N8S4I</td>\n",
       "      <td>the box</td>\n",
       "      <td>95</td>\n",
       "      <td>2019-12-06</td>\n",
       "      <td>2019</td>\n",
       "      <td>Roddy Ricch</td>\n",
       "      <td>0.896</td>\n",
       "      <td>0.586</td>\n",
       "      <td>1</td>\n",
       "      <td>0.0559</td>\n",
       "      <td>3.28</td>\n",
       "      <td>12</td>\n",
       "      <td>Pullin' out the coupe at the lot .Told 'em 'Fu...</td>\n",
       "      <td>2</td>\n",
       "    </tr>\n",
       "    <tr>\n",
       "      <th>6</th>\n",
       "      <td>4nK5YrxbMGZstTLbvj6Gxw</td>\n",
       "      <td>supalonely</td>\n",
       "      <td>95</td>\n",
       "      <td>2019-11-15</td>\n",
       "      <td>2019</td>\n",
       "      <td>BENEE, Gus Dapperton</td>\n",
       "      <td>0.863</td>\n",
       "      <td>0.631</td>\n",
       "      <td>1</td>\n",
       "      <td>0.0534</td>\n",
       "      <td>3.72</td>\n",
       "      <td>11</td>\n",
       "      <td>I know I fucked up. I'm just a loser. Shouldn'...</td>\n",
       "      <td>1</td>\n",
       "    </tr>\n",
       "    <tr>\n",
       "      <th>7</th>\n",
       "      <td>127QTOFJsJQp5LbJbu3A1y</td>\n",
       "      <td>toosie slide</td>\n",
       "      <td>95</td>\n",
       "      <td>2020-04-03</td>\n",
       "      <td>2020</td>\n",
       "      <td>Drake</td>\n",
       "      <td>0.834</td>\n",
       "      <td>0.454</td>\n",
       "      <td>1</td>\n",
       "      <td>0.2010</td>\n",
       "      <td>4.12</td>\n",
       "      <td>4</td>\n",
       "      <td>Black leather gloves no sequins. Buckles on th...</td>\n",
       "      <td>2</td>\n",
       "    </tr>\n",
       "    <tr>\n",
       "      <th>8</th>\n",
       "      <td>2XU0oxnq2qxCpomAAuJY8K</td>\n",
       "      <td>dance monkey</td>\n",
       "      <td>94</td>\n",
       "      <td>2019-10-17</td>\n",
       "      <td>2019</td>\n",
       "      <td>Tones And I</td>\n",
       "      <td>0.824</td>\n",
       "      <td>0.588</td>\n",
       "      <td>0</td>\n",
       "      <td>0.0924</td>\n",
       "      <td>3.49</td>\n",
       "      <td>10</td>\n",
       "      <td>They say oh my god. I see the way you shine. T...</td>\n",
       "      <td>4</td>\n",
       "    </tr>\n",
       "    <tr>\n",
       "      <th>9</th>\n",
       "      <td>24ySl2hOPGCDcxBxFIqWBu</td>\n",
       "      <td>rain on me (with ariana grande)</td>\n",
       "      <td>94</td>\n",
       "      <td>2020-05-22</td>\n",
       "      <td>2020</td>\n",
       "      <td>Lady Gaga, Ariana Grande</td>\n",
       "      <td>0.672</td>\n",
       "      <td>0.855</td>\n",
       "      <td>0</td>\n",
       "      <td>0.0397</td>\n",
       "      <td>3.04</td>\n",
       "      <td>5</td>\n",
       "      <td>I didn't ask for a free ride. I only asked you...</td>\n",
       "      <td>1</td>\n",
       "    </tr>\n",
       "  </tbody>\n",
       "</table>\n",
       "</div>"
      ],
      "text/plain": [
       "                       id  ... sentiment\n",
       "0  0VjIjW4GlUZAMYd2vXMi3b  ...         1\n",
       "1  7ytR5pFWmSjzHJIeQkgog4  ...         2\n",
       "2  7eJMfftS33KTjuF7lTsMCx  ...         3\n",
       "3  39Yp9wwQiSRIDOvrVg7mbk  ...         3\n",
       "4  62aP9fBQKYKxi7PDXwcUAS  ...         5\n",
       "5  0nbXyq5TXYPCO7pr3N8S4I  ...         2\n",
       "6  4nK5YrxbMGZstTLbvj6Gxw  ...         1\n",
       "7  127QTOFJsJQp5LbJbu3A1y  ...         2\n",
       "8  2XU0oxnq2qxCpomAAuJY8K  ...         4\n",
       "9  24ySl2hOPGCDcxBxFIqWBu  ...         1\n",
       "\n",
       "[10 rows x 14 columns]"
      ]
     },
     "execution_count": 4,
     "metadata": {
      "tags": []
     },
     "output_type": "execute_result"
    }
   ],
   "source": [
    "# Reading the output CSV file from the notebook mentioned above:\n",
    "songs_sentiment = pd.read_csv('songs_lyrics_sentiment.csv', index_col=0)\n",
    "songs_sentiment"
   ]
  },
  {
   "cell_type": "markdown",
   "metadata": {
    "id": "IK7crzEk763b"
   },
   "source": [
    "##### Sentiment rate is defined as:\n",
    "\n",
    "5 = Very positive </br>\n",
    "4 = Positive </br>\n",
    "3 = Neutral </br>\n",
    "2 = Negative </br>\n",
    "1 = Very negative </br>\n",
    "\n"
   ]
  },
  {
   "cell_type": "code",
   "execution_count": 23,
   "metadata": {
    "colab": {
     "base_uri": "https://localhost:8080/",
     "height": 357
    },
    "executionInfo": {
     "elapsed": 1450,
     "status": "ok",
     "timestamp": 1602425988512,
     "user": {
      "displayName": "Hada Garcia",
      "photoUrl": "https://lh3.googleusercontent.com/a-/AOh14Gi-BhTuTj1QIs2vQZScRxNHuO1tSPc58vtRT-c4VQ=s64",
      "userId": "17697916405456863555"
     },
     "user_tz": -120
    },
    "id": "6NXnVpPM4wM4",
    "outputId": "87ea7653-ce52-49c1-8f16-c288250ad128"
   },
   "outputs": [
    {
     "data": {
      "image/png": "[encoded data removed]",
      "text/plain": [
       "<Figure size 648x360 with 1 Axes>"
      ]
     },
     "metadata": {
      "needs_background": "light",
      "tags": []
     },
     "output_type": "display_data"
    }
   ],
   "source": [
    "plt.title('Sentiment analysis')\n",
    "sns.scatterplot(y=songs_sentiment.name, x=songs_sentiment.popularity, hue=songs_sentiment.sentiment, hue_order=[5,4,3,2,1], size=songs_sentiment.sentiment,\n",
    "    sizes=(50, 350), palette='deep');"
   ]
  },
  {
   "cell_type": "markdown",
   "metadata": {
    "id": "xZ02zqJf8W3o"
   },
   "source": [
    "*The sentiment analysis was calculated using the song's lyrics, altough some results are VERY NEGATIVE, we need to consider also the explicit content.*\n",
    "\n",
    "*E.g. the song \"rain on me\" was classified as very negative, the explicit content value for it is 0, which means the song is just too sad.*\n",
    "\n",
    "*My conclusion is, sad songs are very popular, which is not bad, since it depends on the mood and people sometimes need this kind of songs. What I don't really like is the tendency of negative songs including explicit content, why are they so popular?*"
   ]
  },
  {
   "cell_type": "markdown",
   "metadata": {
    "id": "zUXC5lFUa-xA"
   },
   "source": [
    "## **4. Personal conclusions**\n",
    "\n",
    "> After analyzing this public data, I noticed some tendencies to more explicit songs and genres, which personally are not my favorites.\n",
    "\n",
    "> As I mentioned on previous sections, an approach by countries would give better results, since people is very different all around the world and by digging on information specific to a country, we could find very different results on the most popular songs and genres.\n",
    "\n",
    "\n",
    "\n"
   ]
  },
  {
   "cell_type": "markdown",
   "metadata": {
    "id": "BU05yPdLXGrW"
   },
   "source": [
    "## **5. References and future work**\n",
    "\n",
    "Datasets downloaded from: </br>\n",
    "https://www.kaggle.com/yamaerenay/spotify-dataset-19212020-160k-tracks\n",
    "\n",
    "Some interesting links: </br>\n",
    "https://developer.spotify.com/documentation/web-api/reference/tracks/get-audio-features/\n",
    "\n",
    "https://seaborn.pydata.org/index.html\n",
    "\n",
    "Future work: </br>\n",
    "Some of the datasets will need to be merged with another datasets in order to get more accurate info. E.g. Explicit songs, would be interesting to analyze to what genres belong the most explicit songs. I would like to find out if 'reggaeton' would be one of them. </br>\n",
    "Regarding the general characteristics like danceability, energy or speechiness, would be interesting to analyze deeper the relationship between them, from a more acustic point of view.\n"
   ]
  },
  {
   "cell_type": "code",
   "execution_count": 24,
   "metadata": {
    "colab": {
     "base_uri": "https://localhost:8080/",
     "height": 137
    },
    "executionInfo": {
     "elapsed": 14506,
     "status": "ok",
     "timestamp": 1602426545100,
     "user": {
      "displayName": "Hada Garcia",
      "photoUrl": "https://lh3.googleusercontent.com/a-/AOh14Gi-BhTuTj1QIs2vQZScRxNHuO1tSPc58vtRT-c4VQ=s64",
      "userId": "17697916405456863555"
     },
     "user_tz": -120
    },
    "id": "D-RmDJhFEFkW",
    "outputId": "cffcbaa6-60ca-4b38-bd54-17a37cdebe0e"
   },
   "outputs": [
    {
     "name": "stdout",
     "output_type": "stream",
     "text": [
      "[jovian] Detected Colab notebook...\u001b[0m\n",
      "[jovian] Please enter your API key ( from https://jovian.ml/ ):\u001b[0m\n",
      "API KEY: ··········\n",
      "[jovian] Uploading colab notebook to Jovian...\u001b[0m\n",
      "[jovian] Capturing environment..\u001b[0m\n",
      "[jovian] Committed successfully! https://jovian.ml/hada-garcia/songs-analysis-final-project\u001b[0m\n"
     ]
    },
    {
     "data": {
      "application/vnd.google.colaboratory.intrinsic+json": {
       "type": "string"
      },
      "text/plain": [
       "'https://jovian.ml/hada-garcia/songs-analysis-final-project'"
      ]
     },
     "execution_count": 24,
     "metadata": {
      "tags": []
     },
     "output_type": "execute_result"
    }
   ],
   "source": [
    "# Save our progress\n",
    "jovian.commit(project=project)"
   ]
  }
 ],
 "metadata": {
  "colab": {
   "name": "songs-analysis-final-project.ipynb",
   "provenance": []
  },
  "kernelspec": {
   "display_name": "Python 3",
   "language": "python",
   "name": "python3"
  },
  "language_info": {
   "codemirror_mode": {
    "name": "ipython",
    "version": 3
   },
   "file_extension": ".py",
   "mimetype": "text/x-python",
   "name": "python",
   "nbconvert_exporter": "python",
   "pygments_lexer": "ipython3",
   "version": "3.7.8"
  }
 },
 "nbformat": 4,
 "nbformat_minor": 0
}